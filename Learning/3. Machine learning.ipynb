{
 "cells": [
  {
   "cell_type": "markdown",
   "metadata": {
    "toc": true
   },
   "source": [
    "<h1>Table of Contents<span class=\"tocSkip\"></span></h1>\n",
    "<div class=\"toc\"><ul class=\"toc-item\"><li><span><a href=\"#Import-packages\" data-toc-modified-id=\"Import-packages-1\"><span class=\"toc-item-num\">1&nbsp;&nbsp;</span>Import packages</a></span></li><li><span><a href=\"#Read-input-images\" data-toc-modified-id=\"Read-input-images-2\"><span class=\"toc-item-num\">2&nbsp;&nbsp;</span>Read input images</a></span></li><li><span><a href=\"#Pre-process-images\" data-toc-modified-id=\"Pre-process-images-3\"><span class=\"toc-item-num\">3&nbsp;&nbsp;</span>Pre-process images</a></span></li></ul></div>"
   ]
  },
  {
   "cell_type": "markdown",
   "metadata": {},
   "source": [
    "## Import packages"
   ]
  },
  {
   "cell_type": "code",
   "execution_count": 1,
   "metadata": {
    "ExecuteTime": {
     "end_time": "2019-04-21T04:51:57.654562Z",
     "start_time": "2019-04-21T04:51:56.592113Z"
    }
   },
   "outputs": [],
   "source": [
    "import pandas as pd\n",
    "import numpy as np\n",
    "\n",
    "import warnings\n",
    "warnings.filterwarnings('ignore')"
   ]
  },
  {
   "cell_type": "code",
   "execution_count": 2,
   "metadata": {
    "ExecuteTime": {
     "end_time": "2019-04-21T04:51:57.664051Z",
     "start_time": "2019-04-21T04:51:57.659137Z"
    }
   },
   "outputs": [],
   "source": [
    "import shutil"
   ]
  },
  {
   "cell_type": "code",
   "execution_count": 3,
   "metadata": {
    "ExecuteTime": {
     "end_time": "2019-04-21T04:52:01.537904Z",
     "start_time": "2019-04-21T04:51:57.668384Z"
    }
   },
   "outputs": [
    {
     "name": "stderr",
     "output_type": "stream",
     "text": [
      "Using TensorFlow backend.\n"
     ]
    }
   ],
   "source": [
    "import keras"
   ]
  },
  {
   "cell_type": "code",
   "execution_count": 4,
   "metadata": {
    "ExecuteTime": {
     "end_time": "2019-04-21T04:52:02.502046Z",
     "start_time": "2019-04-21T04:52:01.542191Z"
    }
   },
   "outputs": [],
   "source": [
    "import matplotlib.pyplot as plt\n",
    "import seaborn as sn\n",
    "from glob import glob"
   ]
  },
  {
   "cell_type": "code",
   "execution_count": 5,
   "metadata": {
    "ExecuteTime": {
     "end_time": "2019-04-21T04:52:02.511560Z",
     "start_time": "2019-04-21T04:52:02.504752Z"
    }
   },
   "outputs": [],
   "source": [
    "%matplotlib inline"
   ]
  },
  {
   "cell_type": "code",
   "execution_count": 6,
   "metadata": {
    "ExecuteTime": {
     "end_time": "2019-04-21T04:52:02.520439Z",
     "start_time": "2019-04-21T04:52:02.515973Z"
    }
   },
   "outputs": [],
   "source": [
    "import os"
   ]
  },
  {
   "cell_type": "markdown",
   "metadata": {},
   "source": [
    "## Read input images"
   ]
  },
  {
   "cell_type": "code",
   "execution_count": 7,
   "metadata": {
    "ExecuteTime": {
     "end_time": "2019-04-21T04:52:17.259432Z",
     "start_time": "2019-04-21T04:52:17.255239Z"
    }
   },
   "outputs": [],
   "source": [
    "path_input_images=r'/Users/shyamravikumar/Documents/Box Sync/Final Project - Image Detection/03 Defect Images/Organized'\n",
    "path_output_images=r'/Users/shyamravikumar/Documents/Workspace/BAI - Project/Input Files'"
   ]
  },
  {
   "cell_type": "code",
   "execution_count": 8,
   "metadata": {
    "ExecuteTime": {
     "end_time": "2019-04-21T04:52:17.271674Z",
     "start_time": "2019-04-21T04:52:17.263611Z"
    }
   },
   "outputs": [],
   "source": [
    "path_input_images_defective = os.path.join(path_input_images,\"Defective\")\n",
    "path_input_images_not_defective = os.path.join(path_input_images,\"Not Defective\")\n",
    "\n",
    "assert(os.path.exists(path_input_images_defective))\n",
    "assert(os.path.exists(path_input_images_not_defective))"
   ]
  },
  {
   "cell_type": "code",
   "execution_count": 35,
   "metadata": {
    "ExecuteTime": {
     "end_time": "2019-04-20T05:56:54.851730Z",
     "start_time": "2019-04-20T05:56:54.840184Z"
    }
   },
   "outputs": [
    {
     "data": {
      "text/plain": [
       "21"
      ]
     },
     "execution_count": 35,
     "metadata": {},
     "output_type": "execute_result"
    }
   ],
   "source": [
    "# List all images across the folders. Then, remove all the files that have \"_meta\" is present in the name\n",
    "\n",
    "list_images_defective = glob(os.path.join(path_input_images_defective,\"**\",\"*.JPG\"),recursive=True)\n",
    "list_images_defective=list(filter(lambda x: \"_meta\" not in x,list_images_defective))\n",
    "len(list_images_defective)"
   ]
  },
  {
   "cell_type": "code",
   "execution_count": 41,
   "metadata": {
    "ExecuteTime": {
     "end_time": "2019-04-20T05:59:11.830697Z",
     "start_time": "2019-04-20T05:59:11.813033Z"
    }
   },
   "outputs": [
    {
     "data": {
      "text/plain": [
       "86"
      ]
     },
     "execution_count": 41,
     "metadata": {},
     "output_type": "execute_result"
    }
   ],
   "source": [
    "#Same for non-defective images\n",
    "list_images_not_defective = glob(os.path.join(path_input_images_not_defective,\"**\",\"*.JPG\"),recursive=True)\n",
    "list_images_not_defective=list(filter(lambda x: \"_meta\" not in x,list_images_not_defective))\n",
    "len(list_images_not_defective)"
   ]
  },
  {
   "cell_type": "code",
   "execution_count": 26,
   "metadata": {
    "ExecuteTime": {
     "end_time": "2019-04-20T05:53:54.266442Z",
     "start_time": "2019-04-20T05:53:54.259948Z"
    }
   },
   "outputs": [],
   "source": [
    "# Create backup copies\n",
    "\n",
    "path_output_images_defective = os.path.join(path_output_images,'Defective')\n",
    "path_output_images_not_defective = os.path.join(path_output_images,'Not Defective')"
   ]
  },
  {
   "cell_type": "code",
   "execution_count": 33,
   "metadata": {
    "ExecuteTime": {
     "end_time": "2019-04-20T05:55:15.485960Z",
     "start_time": "2019-04-20T05:55:14.711714Z"
    }
   },
   "outputs": [],
   "source": [
    "# Copy defective images\n",
    "for i in range(len(list_images_defective)):\n",
    "    dir_name=os.path.split(os.path.split(list_images_defective[i])[0])[1]\n",
    "    dir_name\n",
    "\n",
    "    output_filename= dir_name+' - '+os.path.basename(list_images_defective[i])\n",
    "    output_filename\n",
    "\n",
    "    path_output = os.path.join(path_output_images_defective,output_filename)\n",
    "    path_output\n",
    "\n",
    "    shutil.copyfile(list_images_defective[i],path_output)"
   ]
  },
  {
   "cell_type": "code",
   "execution_count": 42,
   "metadata": {
    "ExecuteTime": {
     "end_time": "2019-04-20T05:59:18.760162Z",
     "start_time": "2019-04-20T05:59:14.655092Z"
    }
   },
   "outputs": [],
   "source": [
    "# Copy non-defective images\n",
    "for i in range(len(list_images_not_defective)):\n",
    "    dir_name=os.path.split(os.path.split(list_images_not_defective[i])[0])[1]\n",
    "    dir_name\n",
    "\n",
    "    output_filename= dir_name+' - '+os.path.basename(list_images_not_defective[i])\n",
    "    output_filename\n",
    "\n",
    "    path_output = os.path.join(path_output_images_not_defective,output_filename)\n",
    "    path_output\n",
    "\n",
    "    shutil.copyfile(list_images_not_defective[i],path_output)"
   ]
  },
  {
   "cell_type": "markdown",
   "metadata": {},
   "source": [
    "Manual Task - Create test/train split of the images"
   ]
  },
  {
   "cell_type": "markdown",
   "metadata": {},
   "source": [
    "## Pre-process images"
   ]
  },
  {
   "cell_type": "code",
   "execution_count": 9,
   "metadata": {
    "ExecuteTime": {
     "end_time": "2019-04-21T04:52:29.524555Z",
     "start_time": "2019-04-21T04:52:29.518408Z"
    }
   },
   "outputs": [],
   "source": [
    "path_input_train = r'/Users/shyamravikumar/Documents/Workspace/BAI - Project/Input Files/train'\n",
    "path_input_test = r'/Users/shyamravikumar/Documents/Workspace/BAI - Project/Input Files/test'"
   ]
  },
  {
   "cell_type": "markdown",
   "metadata": {},
   "source": [
    "Rescale images"
   ]
  },
  {
   "cell_type": "code",
   "execution_count": 16,
   "metadata": {
    "ExecuteTime": {
     "end_time": "2019-04-21T04:55:13.431410Z",
     "start_time": "2019-04-21T04:55:13.427240Z"
    }
   },
   "outputs": [],
   "source": [
    "from keras.preprocessing.image import ImageDataGenerator"
   ]
  },
  {
   "cell_type": "code",
   "execution_count": 17,
   "metadata": {
    "ExecuteTime": {
     "end_time": "2019-04-21T04:55:13.708960Z",
     "start_time": "2019-04-21T04:55:13.705124Z"
    }
   },
   "outputs": [],
   "source": [
    "BATCH_SIZE = 4"
   ]
  },
  {
   "cell_type": "code",
   "execution_count": 18,
   "metadata": {
    "ExecuteTime": {
     "end_time": "2019-04-21T04:55:14.050739Z",
     "start_time": "2019-04-21T04:55:13.923897Z"
    }
   },
   "outputs": [
    {
     "name": "stdout",
     "output_type": "stream",
     "text": [
      "Found 67 images belonging to 2 classes.\n"
     ]
    }
   ],
   "source": [
    "train_gen = ImageDataGenerator(rescale=1./255)\n",
    "\n",
    "train_data = train_gen.flow_from_directory(path_input_train,\n",
    "                              target_size = (1920,1080),\n",
    "                              batch_size = BATCH_SIZE,\n",
    "                              class_mode = 'binary')"
   ]
  },
  {
   "cell_type": "code",
   "execution_count": 19,
   "metadata": {
    "ExecuteTime": {
     "end_time": "2019-04-21T04:55:14.175073Z",
     "start_time": "2019-04-21T04:55:14.166247Z"
    }
   },
   "outputs": [
    {
     "data": {
      "text/plain": [
       "{'Defective': 0, 'Not Defective': 1}"
      ]
     },
     "execution_count": 19,
     "metadata": {},
     "output_type": "execute_result"
    }
   ],
   "source": [
    "train_data.class_indices"
   ]
  },
  {
   "cell_type": "code",
   "execution_count": 20,
   "metadata": {
    "ExecuteTime": {
     "end_time": "2019-04-21T04:55:14.589192Z",
     "start_time": "2019-04-21T04:55:14.582941Z"
    }
   },
   "outputs": [
    {
     "data": {
      "text/plain": [
       "67"
      ]
     },
     "execution_count": 20,
     "metadata": {},
     "output_type": "execute_result"
    }
   ],
   "source": [
    "train_data.n"
   ]
  },
  {
   "cell_type": "code",
   "execution_count": 21,
   "metadata": {
    "ExecuteTime": {
     "end_time": "2019-04-21T04:55:14.960446Z",
     "start_time": "2019-04-21T04:55:14.954276Z"
    }
   },
   "outputs": [
    {
     "data": {
      "text/plain": [
       "(1920, 1080, 3)"
      ]
     },
     "execution_count": 21,
     "metadata": {},
     "output_type": "execute_result"
    }
   ],
   "source": [
    "train_data.image_shape"
   ]
  },
  {
   "cell_type": "code",
   "execution_count": 22,
   "metadata": {
    "ExecuteTime": {
     "end_time": "2019-04-21T04:55:19.171290Z",
     "start_time": "2019-04-21T04:55:15.351024Z"
    }
   },
   "outputs": [],
   "source": [
    "X_batch, y_batch = next(train_data)"
   ]
  },
  {
   "cell_type": "code",
   "execution_count": 23,
   "metadata": {
    "ExecuteTime": {
     "end_time": "2019-04-21T04:55:19.207701Z",
     "start_time": "2019-04-21T04:55:19.197691Z"
    }
   },
   "outputs": [
    {
     "data": {
      "text/plain": [
       "(4, 1920, 1080, 3)"
      ]
     },
     "execution_count": 23,
     "metadata": {},
     "output_type": "execute_result"
    }
   ],
   "source": [
    "X_batch.shape"
   ]
  },
  {
   "cell_type": "code",
   "execution_count": 24,
   "metadata": {
    "ExecuteTime": {
     "end_time": "2019-04-21T04:55:19.663325Z",
     "start_time": "2019-04-21T04:55:19.230769Z"
    }
   },
   "outputs": [
    {
     "data": {
      "text/plain": [
       "<matplotlib.image.AxesImage at 0x10aebecf8>"
      ]
     },
     "execution_count": 24,
     "metadata": {},
     "output_type": "execute_result"
    },
    {
     "data": {
      "image/png": "[encoded data removed]",
      "text/plain": [
       "<Figure size 432x288 with 1 Axes>"
      ]
     },
     "metadata": {
      "needs_background": "light"
     },
     "output_type": "display_data"
    }
   ],
   "source": [
    "plt.imshow(np.array(X_batch[3])[:,:,1])"
   ]
  },
  {
   "cell_type": "code",
   "execution_count": 25,
   "metadata": {
    "ExecuteTime": {
     "end_time": "2019-04-21T04:55:19.698124Z",
     "start_time": "2019-04-21T04:55:19.688730Z"
    }
   },
   "outputs": [
    {
     "data": {
      "text/plain": [
       "1.0"
      ]
     },
     "execution_count": 25,
     "metadata": {},
     "output_type": "execute_result"
    }
   ],
   "source": [
    "y_batch[1]"
   ]
  },
  {
   "cell_type": "code",
   "execution_count": 26,
   "metadata": {
    "ExecuteTime": {
     "end_time": "2019-04-21T04:55:19.844863Z",
     "start_time": "2019-04-21T04:55:19.728854Z"
    }
   },
   "outputs": [
    {
     "name": "stdout",
     "output_type": "stream",
     "text": [
      "Found 40 images belonging to 2 classes.\n"
     ]
    }
   ],
   "source": [
    "test_gen = ImageDataGenerator(rescale=1./255)\n",
    "\n",
    "test_data = test_gen.flow_from_directory(path_input_test,\n",
    "                              target_size = (1920,1080),\n",
    "                              batch_size = BATCH_SIZE,\n",
    "                              class_mode = 'binary')"
   ]
  },
  {
   "cell_type": "markdown",
   "metadata": {},
   "source": [
    "Model 1"
   ]
  },
  {
   "cell_type": "code",
   "execution_count": 27,
   "metadata": {
    "ExecuteTime": {
     "end_time": "2019-04-21T04:55:19.873929Z",
     "start_time": "2019-04-21T04:55:19.867264Z"
    }
   },
   "outputs": [],
   "source": [
    "from keras import Sequential\n",
    "from keras.layers import Dense, Conv2D, MaxPool2D, Activation, Flatten, Dropout"
   ]
  },
  {
   "cell_type": "code",
   "execution_count": 28,
   "metadata": {
    "ExecuteTime": {
     "end_time": "2019-04-21T04:55:22.229636Z",
     "start_time": "2019-04-21T04:55:22.052523Z"
    }
   },
   "outputs": [
    {
     "name": "stdout",
     "output_type": "stream",
     "text": [
      "WARNING:tensorflow:From /anaconda3/envs/bai_project_py/lib/python3.6/site-packages/tensorflow/python/framework/op_def_library.py:263: colocate_with (from tensorflow.python.framework.ops) is deprecated and will be removed in a future version.\n",
      "Instructions for updating:\n",
      "Colocations handled automatically by placer.\n"
     ]
    }
   ],
   "source": [
    "model_v1 = Sequential()\n",
    "\n",
    "# Layer 1\n",
    "model_v1.add(Conv2D(filters = 8,\n",
    "                    kernel_size = (3,3),\n",
    "                    input_shape = train_data.image_shape))\n",
    "model_v1.add(MaxPool2D(pool_size=(2,2)))\n",
    "\n",
    "# Layer 2\n",
    "model_v1.add(Conv2D(filters = 4,\n",
    "                    kernel_size = (3,3)))\n",
    "model_v1.add(MaxPool2D(pool_size=(2,2)))\n",
    "\n",
    "## Flatten\n",
    "model_v1.add(Flatten())\n",
    "\n",
    "# Layer 3\n",
    "model_v1.add(Dense(32))\n",
    "model_v1.add(Activation('relu'))\n",
    "#model_v1.add(Dropout(0.1))\n",
    "\n",
    "# Layer 4\n",
    "model_v1.add(Dense(16))\n",
    "model_v1.add(Activation('relu'))\n",
    "#model_v1.add(Dropout(0.1))\n",
    "\n",
    "# Layer 3\n",
    "model_v1.add(Dense(1))\n",
    "model_v1.add(Activation('sigmoid'))"
   ]
  },
  {
   "cell_type": "code",
   "execution_count": 29,
   "metadata": {
    "ExecuteTime": {
     "end_time": "2019-04-21T04:55:24.103717Z",
     "start_time": "2019-04-21T04:55:24.091450Z"
    }
   },
   "outputs": [
    {
     "name": "stdout",
     "output_type": "stream",
     "text": [
      "_________________________________________________________________\n",
      "Layer (type)                 Output Shape              Param #   \n",
      "=================================================================\n",
      "conv2d_1 (Conv2D)            (None, 1918, 1078, 8)     224       \n",
      "_________________________________________________________________\n",
      "max_pooling2d_1 (MaxPooling2 (None, 959, 539, 8)       0         \n",
      "_________________________________________________________________\n",
      "conv2d_2 (Conv2D)            (None, 957, 537, 4)       292       \n",
      "_________________________________________________________________\n",
      "max_pooling2d_2 (MaxPooling2 (None, 478, 268, 4)       0         \n",
      "_________________________________________________________________\n",
      "flatten_1 (Flatten)          (None, 512416)            0         \n",
      "_________________________________________________________________\n",
      "dense_1 (Dense)              (None, 32)                16397344  \n",
      "_________________________________________________________________\n",
      "activation_1 (Activation)    (None, 32)                0         \n",
      "_________________________________________________________________\n",
      "dense_2 (Dense)              (None, 16)                528       \n",
      "_________________________________________________________________\n",
      "activation_2 (Activation)    (None, 16)                0         \n",
      "_________________________________________________________________\n",
      "dense_3 (Dense)              (None, 1)                 17        \n",
      "_________________________________________________________________\n",
      "activation_3 (Activation)    (None, 1)                 0         \n",
      "=================================================================\n",
      "Total params: 16,398,405\n",
      "Trainable params: 16,398,405\n",
      "Non-trainable params: 0\n",
      "_________________________________________________________________\n"
     ]
    }
   ],
   "source": [
    "model_v1.summary()"
   ]
  },
  {
   "cell_type": "code",
   "execution_count": 30,
   "metadata": {
    "ExecuteTime": {
     "end_time": "2019-04-21T04:55:24.764776Z",
     "start_time": "2019-04-21T04:55:24.761044Z"
    }
   },
   "outputs": [],
   "source": [
    "### Compile the model"
   ]
  },
  {
   "cell_type": "code",
   "execution_count": 126,
   "metadata": {
    "ExecuteTime": {
     "end_time": "2019-04-20T06:46:16.624608Z",
     "start_time": "2019-04-20T06:46:16.555620Z"
    }
   },
   "outputs": [],
   "source": [
    "model_v1.compile(optimizer='adam',\n",
    "                 loss='binary_crossentropy',             \n",
    "                 metrics = ['accuracy'])"
   ]
  },
  {
   "cell_type": "code",
   "execution_count": 127,
   "metadata": {
    "ExecuteTime": {
     "end_time": "2019-04-20T06:46:18.210373Z",
     "start_time": "2019-04-20T06:46:18.206220Z"
    }
   },
   "outputs": [],
   "source": [
    "EPOCHS = 10"
   ]
  },
  {
   "cell_type": "code",
   "execution_count": null,
   "metadata": {
    "ExecuteTime": {
     "start_time": "2019-04-20T06:47:03.515Z"
    }
   },
   "outputs": [
    {
     "name": "stdout",
     "output_type": "stream",
     "text": [
      "Epoch 1/10\n",
      "17/16 [==============================] - 266s 16s/step - loss: 4.2623 - acc: 0.7351 - val_loss: 1.5942 - val_acc: 0.9000\n",
      "Epoch 2/10\n",
      "17/16 [==============================] - 416s 24s/step - loss: 3.9889 - acc: 0.7498 - val_loss: 1.5942 - val_acc: 0.9000\n",
      "Epoch 3/10\n",
      "17/16 [==============================] - 463s 27s/step - loss: 3.8281 - acc: 0.7599 - val_loss: 1.5942 - val_acc: 0.9000\n",
      "Epoch 4/10\n",
      "17/16 [==============================] - 369s 22s/step - loss: 3.8281 - acc: 0.7599 - val_loss: 1.5942 - val_acc: 0.9000\n",
      "Epoch 5/10\n",
      "17/16 [==============================] - 377s 22s/step - loss: 4.0627 - acc: 0.7452 - val_loss: 1.5942 - val_acc: 0.9000\n",
      "Epoch 6/10\n",
      "17/16 [==============================] - 439s 26s/step - loss: 4.2235 - acc: 0.7351 - val_loss: 1.5942 - val_acc: 0.9000\n",
      "Epoch 7/10\n",
      "17/16 [==============================] - 385s 23s/step - loss: 4.2973 - acc: 0.7304 - val_loss: 1.5942 - val_acc: 0.9000\n",
      "Epoch 8/10\n",
      "10/16 [================>.............] - ETA: 1:53 - loss: 5.1813 - acc: 0.6750"
     ]
    }
   ],
   "source": [
    "history_v1 = model_v1.fit_generator(train_data,\n",
    "                                    epochs=EPOCHS,\n",
    "                                    steps_per_epoch=train_data.n/BATCH_SIZE,\n",
    "                                    validation_steps=test_data.n/BATCH_SIZE,\n",
    "                                    validation_data=test_data)"
   ]
  },
  {
   "cell_type": "code",
   "execution_count": null,
   "metadata": {},
   "outputs": [],
   "source": [
    "model_v1.predict_on_batch(test_Data)"
   ]
  }
 ],
 "metadata": {
  "kernelspec": {
   "display_name": "Python (BAI)",
   "language": "python",
   "name": "bai_project_py"
  },
  "language_info": {
   "codemirror_mode": {
    "name": "ipython",
    "version": 3
   },
   "file_extension": ".py",
   "mimetype": "text/x-python",
   "name": "python",
   "nbconvert_exporter": "python",
   "pygments_lexer": "ipython3",
   "version": "3.6.8"
  },
  "toc": {
   "base_numbering": 1,
   "nav_menu": {},
   "number_sections": true,
   "sideBar": true,
   "skip_h1_title": true,
   "title_cell": "Table of Contents",
   "title_sidebar": "Contents",
   "toc_cell": true,
   "toc_position": {},
   "toc_section_display": true,
   "toc_window_display": true
  },
  "varInspector": {
   "cols": {
    "lenName": 16,
    "lenType": 16,
    "lenVar": 40
   },
   "kernels_config": {
    "python": {
     "delete_cmd_postfix": "",
     "delete_cmd_prefix": "del ",
     "library": "var_list.py",
     "varRefreshCmd": "print(var_dic_list())"
    },
    "r": {
     "delete_cmd_postfix": ") ",
     "delete_cmd_prefix": "rm(",
     "library": "var_list.r",
     "varRefreshCmd": "cat(var_dic_list()) "
    }
   },
   "types_to_exclude": [
    "module",
    "function",
    "builtin_function_or_method",
    "instance",
    "_Feature"
   ],
   "window_display": false
  }
 },
 "nbformat": 4,
 "nbformat_minor": 2
}
