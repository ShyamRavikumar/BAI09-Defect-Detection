{
  "nbformat": 4,
  "nbformat_minor": 0,
  "metadata": {
    "colab": {
      "name": "Baseline Model.ipynb",
      "version": "0.3.2",
      "provenance": [],
      "collapsed_sections": []
    },
    "language_info": {
      "codemirror_mode": {
        "name": "ipython",
        "version": 3
      },
      "file_extension": ".py",
      "mimetype": "text/x-python",
      "name": "python",
      "nbconvert_exporter": "python",
      "pygments_lexer": "ipython3",
      "version": "3.6.8"
    },
    "kernelspec": {
      "name": "python3",
      "display_name": "Python 3"
    },
    "accelerator": "GPU"
  },
  "cells": [
    {
      "cell_type": "code",
      "metadata": {
        "colab_type": "code",
        "id": "-ZllCUFxdzgp",
        "outputId": "5da50346-7c9f-4785-96a0-499c4eb37729",
        "colab": {
          "base_uri": "https://localhost:8080/",
          "height": 124
        }
      },
      "source": [
        "from google.colab import drive\n",
        "drive.mount('/content/gdrive', force_remount=True)\n"
      ],
      "execution_count": 1,
      "outputs": [
        {
          "output_type": "stream",
          "text": [
            "Go to this URL in a browser: https://accounts.google.com/o/oauth2/auth?client_id=947318989803-6bn6qk8qdgf4n4g3pfee6491hc0brc4i.apps.googleusercontent.com&redirect_uri=urn%3Aietf%3Awg%3Aoauth%3A2.0%3Aoob&scope=email%20https%3A%2F%2Fwww.googleapis.com%2Fauth%2Fdocs.test%20https%3A%2F%2Fwww.googleapis.com%2Fauth%2Fdrive%20https%3A%2F%2Fwww.googleapis.com%2Fauth%2Fdrive.photos.readonly%20https%3A%2F%2Fwww.googleapis.com%2Fauth%2Fpeopleapi.readonly&response_type=code\n",
            "\n",
            "Enter your authorization code:\n",
            "··········\n",
            "Mounted at /content/gdrive\n"
          ],
          "name": "stdout"
        }
      ]
    },
    {
      "cell_type": "code",
      "metadata": {
        "colab_type": "code",
        "id": "c69bK9xXogiq",
        "outputId": "77ec7f77-c3c4-4c98-934b-16721788eb2c",
        "colab": {
          "base_uri": "https://localhost:8080/",
          "height": 35
        }
      },
      "source": [
        "import os\n",
        "os.path.exists('/content/gdrive/My Drive/Model Data.zip')"
      ],
      "execution_count": 2,
      "outputs": [
        {
          "output_type": "execute_result",
          "data": {
            "text/plain": [
              "True"
            ]
          },
          "metadata": {
            "tags": []
          },
          "execution_count": 2
        }
      ]
    },
    {
      "cell_type": "code",
      "metadata": {
        "colab_type": "code",
        "id": "tBN0TiE0cfAw",
        "colab": {}
      },
      "source": [
        "#!unzip -a '/content/gdrive/My Drive/Model Data.zip'"
      ],
      "execution_count": 0,
      "outputs": []
    },
    {
      "cell_type": "code",
      "metadata": {
        "colab_type": "code",
        "id": "F9eDeyC5c_2D",
        "outputId": "e1926f7d-c77a-489f-e524-92130a8a63a5",
        "colab": {
          "base_uri": "https://localhost:8080/",
          "height": 35
        }
      },
      "source": [
        "import pandas as pd\n",
        "import imageio\n",
        "import tensorboard\n",
        "from sklearn.preprocessing import LabelEncoder\n",
        "from sklearn.metrics import classification_report, confusion_matrix\n",
        "from keras.utils.vis_utils import plot_model\n",
        "from keras.callbacks import ReduceLROnPlateau, EarlyStopping, ModelCheckpoint"
      ],
      "execution_count": 5,
      "outputs": [
        {
          "output_type": "stream",
          "text": [
            "Using TensorFlow backend.\n"
          ],
          "name": "stderr"
        }
      ]
    },
    {
      "cell_type": "code",
      "metadata": {
        "colab_type": "code",
        "id": "swpe442fc_2R",
        "colab": {}
      },
      "source": [
        "import warnings\n",
        "warnings.filterwarnings('ignore')\n",
        "from keras import Sequential\n",
        "from keras.layers import Dense, Conv2D, MaxPool2D, Activation, Flatten, Dropout, AveragePooling2D"
      ],
      "execution_count": 0,
      "outputs": []
    },
    {
      "cell_type": "code",
      "metadata": {
        "colab_type": "code",
        "id": "HSj27W4ac_2X",
        "colab": {}
      },
      "source": [
        "import keras\n",
        "import numpy as np\n",
        "import matplotlib.pyplot as plt\n",
        "import seaborn as sn"
      ],
      "execution_count": 0,
      "outputs": []
    },
    {
      "cell_type": "code",
      "metadata": {
        "colab_type": "code",
        "id": "324vIibgc_2c",
        "colab": {}
      },
      "source": [
        "from keras.callbacks import ReduceLROnPlateau, EarlyStopping, ModelCheckpoint\n",
        "from keras.models import Sequential\n",
        "from keras.layers import Dense, Activation\n",
        "from keras.callbacks import TensorBoard\n",
        "import tensorflow as tf\n",
        "from time import time\n",
        "from sklearn.metrics import confusion_matrix\n",
        "from keras.layers import BatchNormalization\n",
        "from keras import layers\n"
      ],
      "execution_count": 0,
      "outputs": []
    },
    {
      "cell_type": "code",
      "metadata": {
        "colab_type": "code",
        "id": "3QOLm1HFc_2i",
        "colab": {}
      },
      "source": [
        "# Loading Images\n",
        "\n",
        "train_ds_location = \"/content/5. Model Inputs/train\"\n",
        "test_ds_location = \"/content/5. Model Inputs/test\"\n",
        "PATH_OUTPUTS_MODEL = '/content/5. Model Inputs'"
      ],
      "execution_count": 0,
      "outputs": []
    },
    {
      "cell_type": "code",
      "metadata": {
        "colab_type": "code",
        "id": "z7EpXOXyc_2n",
        "colab": {}
      },
      "source": [
        "width = 408\n",
        "height = 306"
      ],
      "execution_count": 0,
      "outputs": []
    },
    {
      "cell_type": "markdown",
      "metadata": {
        "colab_type": "text",
        "id": "ZvlgEaxvc_2t"
      },
      "source": [
        "## Loading dataset using Keras"
      ]
    },
    {
      "cell_type": "code",
      "metadata": {
        "colab_type": "code",
        "id": "-bgwIb-sc_2w",
        "colab": {}
      },
      "source": [
        "from keras.preprocessing.image import ImageDataGenerator"
      ],
      "execution_count": 0,
      "outputs": []
    },
    {
      "cell_type": "code",
      "metadata": {
        "colab_type": "code",
        "id": "gAgul82Rc_25",
        "colab": {}
      },
      "source": [
        "train_gen = ImageDataGenerator(rescale=1/255)"
      ],
      "execution_count": 0,
      "outputs": []
    },
    {
      "cell_type": "code",
      "metadata": {
        "colab_type": "code",
        "id": "wEsvUTSmc_3A",
        "colab": {}
      },
      "source": [
        "BATCH_SIZE = 32"
      ],
      "execution_count": 0,
      "outputs": []
    },
    {
      "cell_type": "code",
      "metadata": {
        "colab_type": "code",
        "id": "eGVgUAD4c_3G",
        "outputId": "5640ef6e-d2fb-4622-bb4c-65e46f0cc588",
        "colab": {
          "base_uri": "https://localhost:8080/",
          "height": 35
        }
      },
      "source": [
        "train_data = train_gen.flow_from_directory(train_ds_location,\n",
        "                              target_size = (408,306),\n",
        "                              batch_size = BATCH_SIZE,\n",
        "                              class_mode = 'categorical')"
      ],
      "execution_count": 14,
      "outputs": [
        {
          "output_type": "stream",
          "text": [
            "Found 1292 images belonging to 4 classes.\n"
          ],
          "name": "stdout"
        }
      ]
    },
    {
      "cell_type": "code",
      "metadata": {
        "colab_type": "code",
        "id": "kVOjZXt3c_3Q",
        "outputId": "cef51794-8abc-4370-b2b3-da8c374af081",
        "colab": {
          "base_uri": "https://localhost:8080/",
          "height": 35
        }
      },
      "source": [
        "train_data.n"
      ],
      "execution_count": 15,
      "outputs": [
        {
          "output_type": "execute_result",
          "data": {
            "text/plain": [
              "1292"
            ]
          },
          "metadata": {
            "tags": []
          },
          "execution_count": 15
        }
      ]
    },
    {
      "cell_type": "code",
      "metadata": {
        "colab_type": "code",
        "id": "_nuS0YS0c_3a",
        "outputId": "c5265552-98c9-4f0a-aea2-ba91b1ab89d2",
        "colab": {
          "base_uri": "https://localhost:8080/",
          "height": 87
        }
      },
      "source": [
        "train_data.class_indices"
      ],
      "execution_count": 16,
      "outputs": [
        {
          "output_type": "execute_result",
          "data": {
            "text/plain": [
              "{'defective_lav': 0,\n",
              " 'defective_ldl': 1,\n",
              " 'non_defective': 2,\n",
              " 'non_defective_bubbles': 3}"
            ]
          },
          "metadata": {
            "tags": []
          },
          "execution_count": 16
        }
      ]
    },
    {
      "cell_type": "code",
      "metadata": {
        "colab_type": "code",
        "id": "yHvTy9zBc_3o",
        "outputId": "5a4e7a0a-e388-4f34-fcd4-0c044e39765f",
        "colab": {
          "base_uri": "https://localhost:8080/",
          "height": 35
        }
      },
      "source": [
        "train_data.image_shape"
      ],
      "execution_count": 17,
      "outputs": [
        {
          "output_type": "execute_result",
          "data": {
            "text/plain": [
              "(408, 306, 3)"
            ]
          },
          "metadata": {
            "tags": []
          },
          "execution_count": 17
        }
      ]
    },
    {
      "cell_type": "markdown",
      "metadata": {
        "colab_type": "text",
        "id": "mgM_X6vLc_4e"
      },
      "source": [
        "### Test Data Generator"
      ]
    },
    {
      "cell_type": "code",
      "metadata": {
        "colab_type": "code",
        "id": "DQ92wdEzc_4f",
        "colab": {}
      },
      "source": [
        "test_gen = ImageDataGenerator(rescale=1/255)"
      ],
      "execution_count": 0,
      "outputs": []
    },
    {
      "cell_type": "code",
      "metadata": {
        "colab_type": "code",
        "id": "KUavuKBwc_4k",
        "outputId": "582a37c4-aa7d-4f7f-c83f-7bbb612dfa97",
        "colab": {
          "base_uri": "https://localhost:8080/",
          "height": 35
        }
      },
      "source": [
        "test_data = test_gen.flow_from_directory(test_ds_location,\n",
        "                              target_size = (408,306),\n",
        "                              batch_size = BATCH_SIZE,\n",
        "                              class_mode = 'categorical')"
      ],
      "execution_count": 19,
      "outputs": [
        {
          "output_type": "stream",
          "text": [
            "Found 49 images belonging to 4 classes.\n"
          ],
          "name": "stdout"
        }
      ]
    },
    {
      "cell_type": "code",
      "metadata": {
        "colab_type": "code",
        "id": "DMN6NH-8c_4r",
        "outputId": "a493fd29-df16-4f10-95fa-a3343117e3a1",
        "colab": {
          "base_uri": "https://localhost:8080/",
          "height": 35
        }
      },
      "source": [
        "test_data.n"
      ],
      "execution_count": 20,
      "outputs": [
        {
          "output_type": "execute_result",
          "data": {
            "text/plain": [
              "49"
            ]
          },
          "metadata": {
            "tags": []
          },
          "execution_count": 20
        }
      ]
    },
    {
      "cell_type": "markdown",
      "metadata": {
        "colab_type": "text",
        "id": "TYhZYqGXc_40"
      },
      "source": [
        "## Model V1"
      ]
    },
    {
      "cell_type": "code",
      "metadata": {
        "colab_type": "code",
        "id": "viWFIhIh5dIc",
        "outputId": "fec22798-7acd-44ed-997c-52d438e488be",
        "colab": {
          "base_uri": "https://localhost:8080/",
          "height": 89
        }
      },
      "source": [
        "# Model V1\n",
        "\n",
        "model_v1 = Sequential()\n",
        "model_v1.add(BatchNormalization(input_shape= train_data.image_shape))\n",
        "keras.initializers.he_normal(seed=None)\n",
        "\n",
        "# Layer 1\n",
        "model_v1.add(Conv2D(filters = 8,\n",
        "                    kernel_size = (3,3)))\n",
        "model_v1.add(Activation('relu'))\n",
        "model_v1.add(BatchNormalization())\n",
        "\n",
        "# Layer 2\n",
        "model_v1.add(Conv2D(filters = 16,\n",
        "                    kernel_size = (3,3)))\n",
        "model_v1.add(Activation('relu'))\n",
        "model_v1.add(BatchNormalization())\n",
        "\n",
        "# Layer 3\n",
        "model_v1.add(Conv2D(filters = 32,\n",
        "                    kernel_size = (3,3)))\n",
        "model_v1.add(Activation('relu'))\n",
        "model_v1.add(BatchNormalization())\n",
        "\n",
        "\n",
        "# Layer 4\n",
        "model_v1.add(Conv2D(filters = 64,\n",
        "                    kernel_size = (3,3)))\n",
        "model_v1.add(MaxPool2D(pool_size=(3,3)))\n",
        "model_v1.add(Activation('relu'))\n",
        "model_v1.add(BatchNormalization())\n",
        "\n",
        "\n",
        "\n",
        "# Flatten\n",
        "model_v1.add(Flatten())\n",
        "model_v1.add(Dense(4))\n",
        "\n",
        "# Output Layer\n",
        "model_v1.add(Activation('softmax'))"
      ],
      "execution_count": 21,
      "outputs": [
        {
          "output_type": "stream",
          "text": [
            "WARNING:tensorflow:From /usr/local/lib/python3.6/dist-packages/tensorflow/python/framework/op_def_library.py:263: colocate_with (from tensorflow.python.framework.ops) is deprecated and will be removed in a future version.\n",
            "Instructions for updating:\n",
            "Colocations handled automatically by placer.\n"
          ],
          "name": "stdout"
        }
      ]
    },
    {
      "cell_type": "code",
      "metadata": {
        "colab_type": "code",
        "id": "4-S1YEmWc_49",
        "outputId": "c721be62-535b-43fe-f917-e59f0c44ee46",
        "colab": {
          "base_uri": "https://localhost:8080/",
          "height": 728
        }
      },
      "source": [
        "model_v1.summary()"
      ],
      "execution_count": 22,
      "outputs": [
        {
          "output_type": "stream",
          "text": [
            "_________________________________________________________________\n",
            "Layer (type)                 Output Shape              Param #   \n",
            "=================================================================\n",
            "batch_normalization_1 (Batch (None, 408, 306, 3)       12        \n",
            "_________________________________________________________________\n",
            "conv2d_1 (Conv2D)            (None, 406, 304, 8)       224       \n",
            "_________________________________________________________________\n",
            "activation_1 (Activation)    (None, 406, 304, 8)       0         \n",
            "_________________________________________________________________\n",
            "batch_normalization_2 (Batch (None, 406, 304, 8)       32        \n",
            "_________________________________________________________________\n",
            "conv2d_2 (Conv2D)            (None, 404, 302, 16)      1168      \n",
            "_________________________________________________________________\n",
            "activation_2 (Activation)    (None, 404, 302, 16)      0         \n",
            "_________________________________________________________________\n",
            "batch_normalization_3 (Batch (None, 404, 302, 16)      64        \n",
            "_________________________________________________________________\n",
            "conv2d_3 (Conv2D)            (None, 402, 300, 32)      4640      \n",
            "_________________________________________________________________\n",
            "activation_3 (Activation)    (None, 402, 300, 32)      0         \n",
            "_________________________________________________________________\n",
            "batch_normalization_4 (Batch (None, 402, 300, 32)      128       \n",
            "_________________________________________________________________\n",
            "conv2d_4 (Conv2D)            (None, 400, 298, 64)      18496     \n",
            "_________________________________________________________________\n",
            "max_pooling2d_1 (MaxPooling2 (None, 133, 99, 64)       0         \n",
            "_________________________________________________________________\n",
            "activation_4 (Activation)    (None, 133, 99, 64)       0         \n",
            "_________________________________________________________________\n",
            "batch_normalization_5 (Batch (None, 133, 99, 64)       256       \n",
            "_________________________________________________________________\n",
            "flatten_1 (Flatten)          (None, 842688)            0         \n",
            "_________________________________________________________________\n",
            "dense_1 (Dense)              (None, 4)                 3370756   \n",
            "_________________________________________________________________\n",
            "activation_5 (Activation)    (None, 4)                 0         \n",
            "=================================================================\n",
            "Total params: 3,395,776\n",
            "Trainable params: 3,395,530\n",
            "Non-trainable params: 246\n",
            "_________________________________________________________________\n"
          ],
          "name": "stdout"
        }
      ]
    },
    {
      "cell_type": "code",
      "metadata": {
        "colab_type": "code",
        "id": "WA1x6RTMc_5E",
        "colab": {}
      },
      "source": [
        "# TensorBoard(log_dir='./logs',\n",
        "#                histogram_freq=1,\n",
        "#                batch_size=BATCH_SIZE,\n",
        "#                write_graph=True,\n",
        "#                write_grads=True,\n",
        "#                write_images=True,\n",
        "#              embeddings_freq=1,\n",
        "#                update_freq='EPOCHS')"
      ],
      "execution_count": 0,
      "outputs": []
    },
    {
      "cell_type": "code",
      "metadata": {
        "colab_type": "code",
        "id": "We4r4kbwc_5O",
        "colab": {}
      },
      "source": [
        "callback_list = [EarlyStopping(monitor='val_loss', patience=15),\n",
        "                 ModelCheckpoint(filepath='Final_project1.h5',\n",
        "                                 save_best_only=True),\n",
        "                                 ReduceLROnPlateau(monitor='val_loss',\n",
        "                                   factor=0.1,\n",
        "                                   patience=2)]"
      ],
      "execution_count": 0,
      "outputs": []
    },
    {
      "cell_type": "code",
      "metadata": {
        "colab_type": "code",
        "id": "TdMj1X-4c_5U",
        "colab": {}
      },
      "source": [
        "a = keras.optimizers.Adam(lr=0.001, beta_1=0.9, beta_2=0.999, epsilon=1e-08, decay=0.0)\n",
        "\n",
        "model_v1.compile(optimizer = a,\n",
        "                 loss='categorical_crossentropy',\n",
        "                 metrics = ['accuracy'])\n",
        "\n",
        "#tensorboard = TensorBoard(log_dir=\"logs/7\".format(time()))"
      ],
      "execution_count": 0,
      "outputs": []
    },
    {
      "cell_type": "code",
      "metadata": {
        "colab_type": "code",
        "id": "cHEucXYxc_5d",
        "scrolled": true,
        "colab": {}
      },
      "source": [
        "EPOCHS = 100"
      ],
      "execution_count": 0,
      "outputs": []
    },
    {
      "cell_type": "code",
      "metadata": {
        "colab_type": "code",
        "id": "tIblp2ALc_5l",
        "colab": {}
      },
      "source": [
        "class LossHistory(keras.callbacks.Callback):\n",
        "    def on_train_begin(self, logs={}):\n",
        "        self.losses = []\n",
        "\n",
        "    def on_batch_end(self, batch, logs={}):\n",
        "        self.losses.append(logs.get('loss'))\n",
        "        \n",
        "        \n",
        "history = LossHistory()"
      ],
      "execution_count": 0,
      "outputs": []
    },
    {
      "cell_type": "code",
      "metadata": {
        "colab_type": "code",
        "id": "6gyzWYQLc_5x",
        "outputId": "786c22f0-380c-4e0d-c698-fffca3e71200",
        "colab": {
          "base_uri": "https://localhost:8080/",
          "height": 713
        }
      },
      "source": [
        "history_v1 = model_v1.fit_generator(train_data,\n",
        "                       epochs = EPOCHS,\n",
        "                       steps_per_epoch = train_data.n/BATCH_SIZE,\n",
        "                       validation_steps = test_data.n/BATCH_SIZE,\n",
        "                       shuffle = True,\n",
        "                       callbacks = callback_list + [history],                                   \n",
        "                       validation_data = test_data)"
      ],
      "execution_count": 28,
      "outputs": [
        {
          "output_type": "stream",
          "text": [
            "WARNING:tensorflow:From /usr/local/lib/python3.6/dist-packages/tensorflow/python/ops/math_ops.py:3066: to_int32 (from tensorflow.python.ops.math_ops) is deprecated and will be removed in a future version.\n",
            "Instructions for updating:\n",
            "Use tf.cast instead.\n",
            "Epoch 1/100\n",
            "41/40 [==============================] - 40s 972ms/step - loss: 7.3861 - acc: 0.5232 - val_loss: 5.9209 - val_acc: 0.6327\n",
            "Epoch 2/100\n",
            "41/40 [==============================] - 29s 718ms/step - loss: 7.5547 - acc: 0.5300 - val_loss: 5.9209 - val_acc: 0.6327\n",
            "Epoch 3/100\n",
            "41/40 [==============================] - 29s 717ms/step - loss: 8.1451 - acc: 0.4947 - val_loss: 3.6183 - val_acc: 0.7755\n",
            "Epoch 4/100\n",
            "41/40 [==============================] - 29s 717ms/step - loss: 7.2626 - acc: 0.5485 - val_loss: 3.9473 - val_acc: 0.7551\n",
            "Epoch 5/100\n",
            "41/40 [==============================] - 29s 717ms/step - loss: 7.5005 - acc: 0.5340 - val_loss: 5.5920 - val_acc: 0.6531\n",
            "Epoch 6/100\n",
            "41/40 [==============================] - 29s 717ms/step - loss: 8.2188 - acc: 0.4901 - val_loss: 3.9473 - val_acc: 0.7551\n",
            "Epoch 7/100\n",
            "41/40 [==============================] - 29s 716ms/step - loss: 7.9151 - acc: 0.5086 - val_loss: 3.9473 - val_acc: 0.7551\n",
            "Epoch 8/100\n",
            "41/40 [==============================] - 29s 717ms/step - loss: 7.7844 - acc: 0.5171 - val_loss: 3.9473 - val_acc: 0.7551\n",
            "Epoch 9/100\n",
            "41/40 [==============================] - 29s 717ms/step - loss: 7.9668 - acc: 0.5057 - val_loss: 3.9473 - val_acc: 0.7551\n",
            "Epoch 10/100\n",
            "41/40 [==============================] - 29s 717ms/step - loss: 8.1699 - acc: 0.4929 - val_loss: 3.9473 - val_acc: 0.7551\n",
            "Epoch 11/100\n",
            "41/40 [==============================] - 30s 721ms/step - loss: 8.0707 - acc: 0.4990 - val_loss: 3.9473 - val_acc: 0.7551\n",
            "Epoch 12/100\n",
            "41/40 [==============================] - 29s 719ms/step - loss: 7.8378 - acc: 0.5137 - val_loss: 3.9473 - val_acc: 0.7551\n",
            "Epoch 13/100\n",
            "41/40 [==============================] - 29s 716ms/step - loss: 7.8670 - acc: 0.5119 - val_loss: 3.9473 - val_acc: 0.7551\n",
            "Epoch 14/100\n",
            "41/40 [==============================] - 30s 720ms/step - loss: 7.9298 - acc: 0.5073 - val_loss: 3.9473 - val_acc: 0.7551\n",
            "Epoch 15/100\n",
            "41/40 [==============================] - 30s 721ms/step - loss: 7.6880 - acc: 0.5226 - val_loss: 3.9473 - val_acc: 0.7551\n",
            "Epoch 16/100\n",
            "41/40 [==============================] - 29s 716ms/step - loss: 7.9407 - acc: 0.5073 - val_loss: 3.9473 - val_acc: 0.7551\n",
            "Epoch 17/100\n",
            "41/40 [==============================] - 29s 717ms/step - loss: 7.9417 - acc: 0.5071 - val_loss: 3.9473 - val_acc: 0.7551\n",
            "Epoch 18/100\n",
            "41/40 [==============================] - 29s 716ms/step - loss: 7.9576 - acc: 0.5063 - val_loss: 3.9473 - val_acc: 0.7551\n"
          ],
          "name": "stdout"
        }
      ]
    },
    {
      "cell_type": "code",
      "metadata": {
        "colab_type": "code",
        "id": "kmcm_WiSc_6L",
        "outputId": "e02568b1-446f-40e8-b8c7-9932d641310b",
        "colab": {
          "base_uri": "https://localhost:8080/",
          "height": 281
        }
      },
      "source": [
        "plt.plot(history.losses)\n",
        "plt.title('Loss after each Iteration')\n",
        "\n",
        "plt.show()"
      ],
      "execution_count": 29,
      "outputs": [
        {
          "output_type": "display_data",
          "data": {
            "image/png": "[encoded data removed]",
            "text/plain": [
              "<Figure size 432x288 with 1 Axes>"
            ]
          },
          "metadata": {
            "tags": []
          }
        }
      ]
    },
    {
      "cell_type": "code",
      "metadata": {
        "colab_type": "code",
        "id": "yesoPprNc_6T",
        "outputId": "f96a28f7-402c-48eb-f90d-6f0da8bd4024",
        "colab": {
          "base_uri": "https://localhost:8080/",
          "height": 313
        }
      },
      "source": [
        "# plot loss curve\n",
        "plt.plot(history_v1.history['loss'], label = 'training')\n",
        "plt.title('Training Model loss')\n",
        "plt.ylabel('Loss')\n",
        "plt.xlabel('Epoch')"
      ],
      "execution_count": 30,
      "outputs": [
        {
          "output_type": "execute_result",
          "data": {
            "text/plain": [
              "Text(0.5, 0, 'Epoch')"
            ]
          },
          "metadata": {
            "tags": []
          },
          "execution_count": 30
        },
        {
          "output_type": "display_data",
          "data": {
            "image/png": "[encoded data removed]",
            "text/plain": [
              "<Figure size 432x288 with 1 Axes>"
            ]
          },
          "metadata": {
            "tags": []
          }
        }
      ]
    },
    {
      "cell_type": "code",
      "metadata": {
        "colab_type": "code",
        "id": "Sh0JeotXc_6b",
        "outputId": "f3d7d975-5083-4337-d361-6edf44710799",
        "colab": {
          "base_uri": "https://localhost:8080/",
          "height": 313
        }
      },
      "source": [
        "plt.plot(history_v1.history['val_loss'], label = 'test')\n",
        "plt.title('Validation Model loss')\n",
        "plt.ylabel('Loss')\n",
        "plt.xlabel('Epoch')"
      ],
      "execution_count": 31,
      "outputs": [
        {
          "output_type": "execute_result",
          "data": {
            "text/plain": [
              "Text(0.5, 0, 'Epoch')"
            ]
          },
          "metadata": {
            "tags": []
          },
          "execution_count": 31
        },
        {
          "output_type": "display_data",
          "data": {
            "image/png": "[encoded data removed]",
            "text/plain": [
              "<Figure size 432x288 with 1 Axes>"
            ]
          },
          "metadata": {
            "tags": []
          }
        }
      ]
    },
    {
      "cell_type": "code",
      "metadata": {
        "colab_type": "code",
        "id": "KWBkttqKc_6i",
        "outputId": "843808ea-6014-48fd-e82a-51676c233ff2",
        "colab": {
          "base_uri": "https://localhost:8080/",
          "height": 287
        }
      },
      "source": [
        "pd.DataFrame(history_v1.history).plot()"
      ],
      "execution_count": 32,
      "outputs": [
        {
          "output_type": "execute_result",
          "data": {
            "text/plain": [
              "<matplotlib.axes._subplots.AxesSubplot at 0x7fa28bbd86a0>"
            ]
          },
          "metadata": {
            "tags": []
          },
          "execution_count": 32
        },
        {
          "output_type": "display_data",
          "data": {
            "image/png": "[encoded data removed]",
            "text/plain": [
              "<Figure size 432x288 with 1 Axes>"
            ]
          },
          "metadata": {
            "tags": []
          }
        }
      ]
    },
    {
      "cell_type": "code",
      "metadata": {
        "id": "1dNEJay5A_Gu",
        "colab_type": "code",
        "colab": {}
      },
      "source": [
        "def get_predictions(path):\n",
        "  # Runs predictions for all images in a path (Structured similar to train/test folders) and returns a dataframe with the image, y_actual, y_predicted\n",
        "  # Assumes the images in the path need to be rescaled to 1/255, have a target_size = IMG_WIDTH,IMG_HEIGHT (Defined in the code)\n",
        "  dummy_gen = ImageDataGenerator(rescale=1/255).flow_from_directory(\n",
        "      path,\n",
        "      target_size=(408,306),\n",
        "      batch_size=2000,\n",
        "      shuffle=False,\n",
        "      class_mode='categorical')\n",
        "  img,y_actual = next(dummy_gen)\n",
        "\n",
        "  y_actual = np.argmax(y_actual,axis=1)\n",
        "\n",
        "  y_pred = np.argmax(model_v1.predict(img),axis=1)\n",
        "#   return pd.DataFrame({'image':img,\n",
        "#                       'y_actual':y_actual,\n",
        "#                       'y_pred':y_pred})\n",
        "  filepaths = dummy_gen.filepaths\n",
        "  return img,y_actual,y_pred, filepaths"
      ],
      "execution_count": 0,
      "outputs": []
    },
    {
      "cell_type": "code",
      "metadata": {
        "id": "Ouh7nhAo_yZj",
        "colab_type": "code",
        "outputId": "6777ad4e-4e00-4aa3-8cf1-0b5d5fdb5b14",
        "colab": {
          "base_uri": "https://localhost:8080/",
          "height": 87
        }
      },
      "source": [
        "mapping_labels = dict((val,key) for key,val in train_data.class_indices.items())\n",
        "mapping_labels"
      ],
      "execution_count": 34,
      "outputs": [
        {
          "output_type": "execute_result",
          "data": {
            "text/plain": [
              "{0: 'defective_lav',\n",
              " 1: 'defective_ldl',\n",
              " 2: 'non_defective',\n",
              " 3: 'non_defective_bubbles'}"
            ]
          },
          "metadata": {
            "tags": []
          },
          "execution_count": 34
        }
      ]
    },
    {
      "cell_type": "code",
      "metadata": {
        "id": "QYxcZrFtDivX",
        "colab_type": "code",
        "colab": {}
      },
      "source": [
        "classes = [\n",
        "    'defective_lav', 'defective_ldl', 'non_defective', 'non_defective_bubbles'\n",
        "]"
      ],
      "execution_count": 0,
      "outputs": []
    },
    {
      "cell_type": "code",
      "metadata": {
        "id": "sYSE1ioT_1Zj",
        "colab_type": "code",
        "colab": {}
      },
      "source": [
        "def get_labels(array):\n",
        "  return pd.Series(array).replace(mapping_labels)"
      ],
      "execution_count": 0,
      "outputs": []
    },
    {
      "cell_type": "code",
      "metadata": {
        "id": "_1QKrUHG_1P8",
        "colab_type": "code",
        "colab": {}
      },
      "source": [
        "# Source - https://gist.github.com/hitvoice/36cf44689065ca9b927431546381a3f7\n",
        "import numpy as np\n",
        "import pandas as pd\n",
        "import matplotlib.pyplot as plt\n",
        "import seaborn as sns\n",
        "from sklearn.metrics import confusion_matrix\n",
        "\n",
        "\n",
        "def cm_analysis(y_true, y_pred, filename, labels, ymap=None, figsize=(10, 10)):\n",
        "    \"\"\"\n",
        "    Generate matrix plot of confusion matrix with pretty annotations.\n",
        "    The plot image is saved to disk.\n",
        "    args: \n",
        "      y_true:    true label of the data, with shape (nsamples,)\n",
        "      y_pred:    prediction of the data, with shape (nsamples,)\n",
        "      filename:  filename of figure file to save\n",
        "      labels:    string array, name the order of class labels in the confusion matrix.\n",
        "                 use `clf.classes_` if using scikit-learn models.\n",
        "                 with shape (nclass,).\n",
        "      ymap:      dict: any -> string, length == nclass.\n",
        "                 if not None, map the labels & ys to more understandable strings.\n",
        "                 Caution: original y_true, y_pred and labels must align.\n",
        "      figsize:   the size of the figure plotted.\n",
        "    \"\"\"\n",
        "    if ymap is not None:\n",
        "        y_pred = [ymap[yi] for yi in y_pred]\n",
        "        y_true = [ymap[yi] for yi in y_true]\n",
        "        labels = [ymap[yi] for yi in labels]\n",
        "    cm = confusion_matrix(y_true, y_pred, labels=labels)\n",
        "    cm_sum = np.sum(cm, axis=1, keepdims=True)\n",
        "    cm_perc = cm / cm_sum.astype(float) * 100\n",
        "    annot = np.empty_like(cm).astype(str)\n",
        "    nrows, ncols = cm.shape\n",
        "    for i in range(nrows):\n",
        "        for j in range(ncols):\n",
        "            c = cm[i, j]\n",
        "            p = cm_perc[i, j]\n",
        "            if i == j:\n",
        "                s = cm_sum[i]\n",
        "                annot[i, j] = '%.1f%%\\n%d/%d' % (p, c, s)\n",
        "            elif c == 0:\n",
        "                annot[i, j] = ''\n",
        "            else:\n",
        "                annot[i, j] = '%.1f%%\\n%d' % (p, c)\n",
        "    cm = pd.DataFrame(cm, index=labels, columns=labels)\n",
        "    cm.index.name = 'Actual'\n",
        "    cm.columns.name = 'Predicted'\n",
        "    fig, ax = plt.subplots(figsize=figsize)\n",
        "    sns.heatmap(cm, annot=annot, fmt='', ax=ax)\n",
        "    plt.savefig(filename)"
      ],
      "execution_count": 0,
      "outputs": []
    },
    {
      "cell_type": "code",
      "metadata": {
        "id": "rJHaaiG7_1Dd",
        "colab_type": "code",
        "outputId": "5f0506ac-634e-4be9-c9a8-3df19a0041bc",
        "colab": {
          "base_uri": "https://localhost:8080/",
          "height": 35
        }
      },
      "source": [
        "images, y_true, y_pred, filepaths = get_predictions(train_ds_location)"
      ],
      "execution_count": 38,
      "outputs": [
        {
          "output_type": "stream",
          "text": [
            "Found 1292 images belonging to 4 classes.\n"
          ],
          "name": "stdout"
        }
      ]
    },
    {
      "cell_type": "code",
      "metadata": {
        "id": "UUB8M6uL_06X",
        "colab_type": "code",
        "outputId": "49ff0881-8d1c-42fb-ce82-c256649e05a6",
        "colab": {
          "base_uri": "https://localhost:8080/",
          "height": 69
        }
      },
      "source": [
        "pd.Series(y_true==y_pred).value_counts()"
      ],
      "execution_count": 39,
      "outputs": [
        {
          "output_type": "execute_result",
          "data": {
            "text/plain": [
              "True     657\n",
              "False    635\n",
              "dtype: int64"
            ]
          },
          "metadata": {
            "tags": []
          },
          "execution_count": 39
        }
      ]
    },
    {
      "cell_type": "code",
      "metadata": {
        "id": "Zyh4XsOn_0xO",
        "colab_type": "code",
        "outputId": "abad1bd4-762b-440c-c008-21aabc25241a",
        "colab": {
          "base_uri": "https://localhost:8080/",
          "height": 460
        }
      },
      "source": [
        "print('Train Confusion Matrix')\n",
        "cm_analysis(get_labels(y_true), get_labels(y_pred),filename=os.path.join(PATH_OUTPUTS_MODEL,\"Confusion matrix - train.png\"),\n",
        "            labels=classes,figsize=(5,5))"
      ],
      "execution_count": 40,
      "outputs": [
        {
          "output_type": "stream",
          "text": [
            "Train Confusion Matrix\n"
          ],
          "name": "stdout"
        },
        {
          "output_type": "display_data",
          "data": {
            "image/png": "[encoded data removed]",
            "text/plain": [
              "<Figure size 360x360 with 2 Axes>"
            ]
          },
          "metadata": {
            "tags": []
          }
        }
      ]
    },
    {
      "cell_type": "code",
      "metadata": {
        "id": "zg3bCjy_FX9j",
        "colab_type": "code",
        "outputId": "b106bf4c-b1f0-459e-bbdd-3a070da6420a",
        "colab": {
          "base_uri": "https://localhost:8080/",
          "height": 332
        }
      },
      "source": [
        "print(classification_report(y_true,y_pred,target_names=classes))"
      ],
      "execution_count": 41,
      "outputs": [
        {
          "output_type": "stream",
          "text": [
            "                       precision    recall  f1-score   support\n",
            "\n",
            "        defective_lav       0.00      0.00      0.00       170\n",
            "        defective_ldl       0.18      0.46      0.26       187\n",
            "        non_defective       0.59      0.54      0.56       561\n",
            "non_defective_bubbles       0.89      0.72      0.79       374\n",
            "\n",
            "             accuracy                           0.51      1292\n",
            "            macro avg       0.41      0.43      0.40      1292\n",
            "         weighted avg       0.54      0.51      0.51      1292\n",
            "\n"
          ],
          "name": "stdout"
        },
        {
          "output_type": "stream",
          "text": [
            "/usr/local/lib/python3.6/dist-packages/sklearn/metrics/classification.py:1437: UndefinedMetricWarning: Precision and F-score are ill-defined and being set to 0.0 in labels with no predicted samples.\n",
            "  'precision', 'predicted', average, warn_for)\n",
            "/usr/local/lib/python3.6/dist-packages/sklearn/metrics/classification.py:1437: UndefinedMetricWarning: Precision and F-score are ill-defined and being set to 0.0 in labels with no predicted samples.\n",
            "  'precision', 'predicted', average, warn_for)\n",
            "/usr/local/lib/python3.6/dist-packages/sklearn/metrics/classification.py:1437: UndefinedMetricWarning: Precision and F-score are ill-defined and being set to 0.0 in labels with no predicted samples.\n",
            "  'precision', 'predicted', average, warn_for)\n"
          ],
          "name": "stderr"
        }
      ]
    },
    {
      "cell_type": "code",
      "metadata": {
        "id": "4DC8q3MJFX7L",
        "colab_type": "code",
        "outputId": "e1a2eeab-6c70-41ce-fb4d-2dbcda8e2e42",
        "colab": {
          "base_uri": "https://localhost:8080/",
          "height": 35
        }
      },
      "source": [
        "# Confusion Matrix for Test Data\n",
        "images_test, y_true_test, y_pred_test, filepaths_test = get_predictions(test_ds_location)"
      ],
      "execution_count": 42,
      "outputs": [
        {
          "output_type": "stream",
          "text": [
            "Found 49 images belonging to 4 classes.\n"
          ],
          "name": "stdout"
        }
      ]
    },
    {
      "cell_type": "code",
      "metadata": {
        "id": "hvAeQe-IFX4Y",
        "colab_type": "code",
        "outputId": "8f8d91dc-9187-4991-bf16-ebbcbadc6c40",
        "colab": {
          "base_uri": "https://localhost:8080/",
          "height": 69
        }
      },
      "source": [
        "pd.Series(y_true_test==y_pred_test).value_counts()"
      ],
      "execution_count": 43,
      "outputs": [
        {
          "output_type": "execute_result",
          "data": {
            "text/plain": [
              "True     37\n",
              "False    12\n",
              "dtype: int64"
            ]
          },
          "metadata": {
            "tags": []
          },
          "execution_count": 43
        }
      ]
    },
    {
      "cell_type": "code",
      "metadata": {
        "id": "v8tiUIsYFX1X",
        "colab_type": "code",
        "outputId": "6030f6ea-9230-4846-9007-5acb10b51059",
        "colab": {
          "base_uri": "https://localhost:8080/",
          "height": 460
        }
      },
      "source": [
        "\n",
        "print('Test Confusion Matrix')\n",
        "cm_analysis(get_labels(y_true_test), get_labels(y_pred_test),filename=os.path.join(PATH_OUTPUTS_MODEL,\"Confusion matrix - test.png\"),\n",
        "            labels=classes,figsize=(5,5))"
      ],
      "execution_count": 44,
      "outputs": [
        {
          "output_type": "stream",
          "text": [
            "Test Confusion Matrix\n"
          ],
          "name": "stdout"
        },
        {
          "output_type": "display_data",
          "data": {
            "image/png": "[encoded data removed]",
            "text/plain": [
              "<Figure size 360x360 with 2 Axes>"
            ]
          },
          "metadata": {
            "tags": []
          }
        }
      ]
    },
    {
      "cell_type": "code",
      "metadata": {
        "id": "Tq11kXiUFXuQ",
        "colab_type": "code",
        "outputId": "c66a32a1-8205-4bdc-9aab-af3fb414af9e",
        "colab": {
          "base_uri": "https://localhost:8080/",
          "height": 332
        }
      },
      "source": [
        "print(classification_report(y_true_test,y_pred_test,target_names=classes))"
      ],
      "execution_count": 45,
      "outputs": [
        {
          "output_type": "stream",
          "text": [
            "                       precision    recall  f1-score   support\n",
            "\n",
            "        defective_lav       0.00      0.00      0.00         6\n",
            "        defective_ldl       0.00      0.00      0.00         5\n",
            "        non_defective       0.68      1.00      0.81        23\n",
            "non_defective_bubbles       1.00      0.93      0.97        15\n",
            "\n",
            "             accuracy                           0.76        49\n",
            "            macro avg       0.42      0.48      0.44        49\n",
            "         weighted avg       0.62      0.76      0.67        49\n",
            "\n"
          ],
          "name": "stdout"
        },
        {
          "output_type": "stream",
          "text": [
            "/usr/local/lib/python3.6/dist-packages/sklearn/metrics/classification.py:1437: UndefinedMetricWarning: Precision and F-score are ill-defined and being set to 0.0 in labels with no predicted samples.\n",
            "  'precision', 'predicted', average, warn_for)\n",
            "/usr/local/lib/python3.6/dist-packages/sklearn/metrics/classification.py:1437: UndefinedMetricWarning: Precision and F-score are ill-defined and being set to 0.0 in labels with no predicted samples.\n",
            "  'precision', 'predicted', average, warn_for)\n",
            "/usr/local/lib/python3.6/dist-packages/sklearn/metrics/classification.py:1437: UndefinedMetricWarning: Precision and F-score are ill-defined and being set to 0.0 in labels with no predicted samples.\n",
            "  'precision', 'predicted', average, warn_for)\n"
          ],
          "name": "stderr"
        }
      ]
    },
    {
      "cell_type": "code",
      "metadata": {
        "id": "Fq-r7qjw_0RI",
        "colab_type": "code",
        "colab": {}
      },
      "source": [
        "# End of code"
      ],
      "execution_count": 0,
      "outputs": []
    }
  ]
}