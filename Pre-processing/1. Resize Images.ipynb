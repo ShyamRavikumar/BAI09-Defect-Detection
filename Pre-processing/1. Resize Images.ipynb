{
 "cells": [
  {
   "cell_type": "markdown",
   "metadata": {},
   "source": [
    "# Resize all input images for easier processing"
   ]
  },
  {
   "cell_type": "markdown",
   "metadata": {
    "toc": true
   },
   "source": [
    "<h1>Table of Contents<span class=\"tocSkip\"></span></h1>\n",
    "<div class=\"toc\"><ul class=\"toc-item\"><li><span><a href=\"#Import-required-libraries\" data-toc-modified-id=\"Import-required-libraries-1\"><span class=\"toc-item-num\">1&nbsp;&nbsp;</span>Import required libraries</a></span></li><li><span><a href=\"#Resize-images\" data-toc-modified-id=\"Resize-images-2\"><span class=\"toc-item-num\">2&nbsp;&nbsp;</span>Resize images</a></span><ul class=\"toc-item\"><li><span><a href=\"#Helper-function-for-identifying-images-to-be-resized\" data-toc-modified-id=\"Helper-function-for-identifying-images-to-be-resized-2.1\"><span class=\"toc-item-num\">2.1&nbsp;&nbsp;</span>Helper function for identifying images to be resized</a></span></li><li><span><a href=\"#Helper-function-for-reading,-resizing-and-saving-images-to-a-location\" data-toc-modified-id=\"Helper-function-for-reading,-resizing-and-saving-images-to-a-location-2.2\"><span class=\"toc-item-num\">2.2&nbsp;&nbsp;</span>Helper function for reading, resizing and saving images to a location</a></span></li><li><span><a href=\"#Resize-defective-images\" data-toc-modified-id=\"Resize-defective-images-2.3\"><span class=\"toc-item-num\">2.3&nbsp;&nbsp;</span>Resize defective images</a></span></li><li><span><a href=\"#Resize-non-defective-images\" data-toc-modified-id=\"Resize-non-defective-images-2.4\"><span class=\"toc-item-num\">2.4&nbsp;&nbsp;</span>Resize non-defective images</a></span></li></ul></li></ul></div>"
   ]
  },
  {
   "cell_type": "markdown",
   "metadata": {},
   "source": [
    "## Import required libraries"
   ]
  },
  {
   "cell_type": "code",
   "execution_count": 1,
   "metadata": {
    "ExecuteTime": {
     "end_time": "2019-05-14T04:18:54.024491Z",
     "start_time": "2019-05-14T04:18:52.201343Z"
    }
   },
   "outputs": [],
   "source": [
    "import os\n",
    "import pandas as pd\n",
    "import cv2\n",
    "import matplotlib.pyplot as plt\n",
    "import imutils\n",
    "import shutil"
   ]
  },
  {
   "cell_type": "code",
   "execution_count": 5,
   "metadata": {
    "ExecuteTime": {
     "end_time": "2019-05-14T04:21:07.079409Z",
     "start_time": "2019-05-14T04:21:07.057396Z"
    }
   },
   "outputs": [],
   "source": [
    "from IPython.core.interactiveshell import InteractiveShell\n",
    "InteractiveShell.ast_node_interactivity = \"all\""
   ]
  },
  {
   "cell_type": "code",
   "execution_count": 6,
   "metadata": {
    "ExecuteTime": {
     "end_time": "2019-05-14T04:21:09.470300Z",
     "start_time": "2019-05-14T04:21:09.455230Z"
    }
   },
   "outputs": [],
   "source": [
    "%matplotlib inline"
   ]
  },
  {
   "cell_type": "code",
   "execution_count": 62,
   "metadata": {
    "ExecuteTime": {
     "end_time": "2019-05-14T04:37:38.024634Z",
     "start_time": "2019-05-14T04:37:38.019666Z"
    }
   },
   "outputs": [],
   "source": [
    "# LAV\n",
    "PATH_INPUT_DEFECTIVE = r'/Users/shyamravikumar/Documents/Box Sync/Final Project - Image Detection/03 Defect Images/Organized and Cleaned/Defective'\n",
    "PATH_INPUT_NOT_DEFECTIVE = r'/Users/shyamravikumar/Documents/Box Sync/Final Project - Image Detection/03 Defect Images/Organized and Cleaned/Not Defective'\n",
    "PATH_OUTPUT_DEFECTIVE = r'/Users/shyamravikumar/Documents/Workspace/BAI - Project/Input Files/Large/1. Resized Images/defective_lav'\n",
    "PATH_OUTPUT_NOT_DEFECTIVE = r'/Users/shyamravikumar/Documents/Workspace/BAI - Project/Input Files/Large/1. Resized Images/non_defective_lav'\n",
    "\n",
    "# LDL\n",
    "# PATH_INPUT_DEFECTIVE = r'/Users/shyamravikumar/Documents/Box Sync/Final Project - Image Detection/03 Defect Images/Organized and Cleaned - LDL/Defective'\n",
    "# PATH_INPUT_NOT_DEFECTIVE = r'/Users/shyamravikumar/Documents/Box Sync/Final Project - Image Detection/03 Defect Images/Organized and Cleaned - LDL/Not Defective'\n",
    "# PATH_OUTPUT_DEFECTIVE = r'/Users/shyamravikumar/Documents/Workspace/BAI - Project/Input Files/Large/1. Resized Images/defective_ldl'\n",
    "# PATH_OUTPUT_NOT_DEFECTIVE = r'/Users/shyamravikumar/Documents/Workspace/BAI - Project/Input Files/Large/1. Resized Images/non_defective_ldl'"
   ]
  },
  {
   "cell_type": "markdown",
   "metadata": {},
   "source": [
    "Set the desired height and width for each image (in pixels)"
   ]
  },
  {
   "cell_type": "code",
   "execution_count": 63,
   "metadata": {
    "ExecuteTime": {
     "end_time": "2019-05-14T04:37:38.148828Z",
     "start_time": "2019-05-14T04:37:38.144619Z"
    }
   },
   "outputs": [],
   "source": [
    "# Source image size - (3672, 4896, 3)\n",
    "# ASPECT_RATIO = 4896/3672\n",
    "\n",
    "# Size for small images\n",
    "# HEIGHT_NEW = 306\n",
    "# WIDTH_NEW = 408 \n",
    "\n",
    "# Size for large images\n",
    "HEIGHT_NEW = 612\n",
    "WIDTH_NEW = 816\n",
    "\n",
    "\n"
   ]
  },
  {
   "cell_type": "markdown",
   "metadata": {},
   "source": [
    "## Resize images"
   ]
  },
  {
   "cell_type": "markdown",
   "metadata": {},
   "source": [
    "### Helper function for identifying images to be resized"
   ]
  },
  {
   "cell_type": "code",
   "execution_count": 64,
   "metadata": {
    "ExecuteTime": {
     "end_time": "2019-05-14T04:37:38.387231Z",
     "start_time": "2019-05-14T04:37:38.380275Z"
    },
    "code_folding": [
     0
    ]
   },
   "outputs": [],
   "source": [
    "def get_valid_images_in_path(path):\n",
    "    \"\"\"\n",
    "    Return a list of valid images in a path\n",
    "    \n",
    "    Parameters\n",
    "    ----------\n",
    "        \n",
    "        path: str\n",
    "            Location where the images are stored\n",
    "            \n",
    "    Returns\n",
    "    -------\n",
    "        \n",
    "        list of str: List of images obtained from the directory\n",
    "        \n",
    "    \"\"\"\n",
    "    from keras_preprocessing.image.utils import _iter_valid_files\n",
    "    from keras_preprocessing.image.directory_iterator import DirectoryIterator\n",
    "    \n",
    "    list_files = list(\n",
    "        _iter_valid_files(path,\n",
    "                          DirectoryIterator.white_list_formats,\n",
    "                          follow_links=False))\n",
    "    list_files = list(map(lambda x: os.path.join(*x), list_files))\n",
    "    return list_files"
   ]
  },
  {
   "cell_type": "markdown",
   "metadata": {},
   "source": [
    "### Helper function for reading, resizing and saving images to a location"
   ]
  },
  {
   "cell_type": "code",
   "execution_count": 65,
   "metadata": {
    "ExecuteTime": {
     "end_time": "2019-05-14T04:37:38.505631Z",
     "start_time": "2019-05-14T04:37:38.500211Z"
    }
   },
   "outputs": [],
   "source": [
    "def read_resize_and_save(path_old,path_new):\n",
    "    img = cv2.imread(path_old)\n",
    "    img = cv2.resize(img,(WIDTH_NEW,HEIGHT_NEW))\n",
    "    cv2.imwrite(path_new,img)\n",
    "    \n",
    "#     try:\n",
    "#         shutil.copyfile(path_old, path_new)\n",
    "#     except Exception as e:\n",
    "#         print(e)"
   ]
  },
  {
   "cell_type": "markdown",
   "metadata": {},
   "source": [
    "### Resize defective images"
   ]
  },
  {
   "cell_type": "code",
   "execution_count": 66,
   "metadata": {
    "ExecuteTime": {
     "end_time": "2019-05-14T04:37:38.634888Z",
     "start_time": "2019-05-14T04:37:38.620870Z"
    }
   },
   "outputs": [],
   "source": [
    "list_images_defective = get_valid_images_in_path(PATH_INPUT_DEFECTIVE)\n",
    "\n",
    "list_image_outputs_defective = list(\n",
    "    map(lambda x: os.path.join(PATH_OUTPUT_DEFECTIVE, os.path.basename(x)),\n",
    "        list_images_defective))"
   ]
  },
  {
   "cell_type": "code",
   "execution_count": 67,
   "metadata": {
    "ExecuteTime": {
     "end_time": "2019-05-14T04:37:38.643946Z",
     "start_time": "2019-05-14T04:37:38.638208Z"
    }
   },
   "outputs": [],
   "source": [
    "assert(len(list_image_outputs_defective)==len(list_images_defective))"
   ]
  },
  {
   "cell_type": "code",
   "execution_count": 68,
   "metadata": {
    "ExecuteTime": {
     "end_time": "2019-05-14T04:37:38.659375Z",
     "start_time": "2019-05-14T04:37:38.648593Z"
    }
   },
   "outputs": [
    {
     "data": {
      "text/plain": [
       "['/Users/shyamravikumar/Documents/Box Sync/Final Project - Image Detection/03 Defect Images/Organized and Cleaned/Defective/Sample 2 - Pattern 1 - 1.JPG',\n",
       " '/Users/shyamravikumar/Documents/Box Sync/Final Project - Image Detection/03 Defect Images/Organized and Cleaned/Defective/Sample 2 - Pattern 1 - 12.JPG',\n",
       " '/Users/shyamravikumar/Documents/Box Sync/Final Project - Image Detection/03 Defect Images/Organized and Cleaned/Defective/Sample 2 - Pattern 1 - 2.JPG',\n",
       " '/Users/shyamravikumar/Documents/Box Sync/Final Project - Image Detection/03 Defect Images/Organized and Cleaned/Defective/Sample 2 - Pattern 1 - 3.JPG',\n",
       " '/Users/shyamravikumar/Documents/Box Sync/Final Project - Image Detection/03 Defect Images/Organized and Cleaned/Defective/Sample 2 - Pattern 1 - 4.JPG']"
      ]
     },
     "execution_count": 68,
     "metadata": {},
     "output_type": "execute_result"
    },
    {
     "data": {
      "text/plain": [
       "['/Users/shyamravikumar/Documents/Workspace/BAI - Project/Input Files/Large/1. Resized Images/defective_lav/Sample 2 - Pattern 1 - 1.JPG',\n",
       " '/Users/shyamravikumar/Documents/Workspace/BAI - Project/Input Files/Large/1. Resized Images/defective_lav/Sample 2 - Pattern 1 - 12.JPG',\n",
       " '/Users/shyamravikumar/Documents/Workspace/BAI - Project/Input Files/Large/1. Resized Images/defective_lav/Sample 2 - Pattern 1 - 2.JPG',\n",
       " '/Users/shyamravikumar/Documents/Workspace/BAI - Project/Input Files/Large/1. Resized Images/defective_lav/Sample 2 - Pattern 1 - 3.JPG',\n",
       " '/Users/shyamravikumar/Documents/Workspace/BAI - Project/Input Files/Large/1. Resized Images/defective_lav/Sample 2 - Pattern 1 - 4.JPG']"
      ]
     },
     "execution_count": 68,
     "metadata": {},
     "output_type": "execute_result"
    }
   ],
   "source": [
    "list_images_defective[:5]\n",
    "list_image_outputs_defective[:5]"
   ]
  },
  {
   "cell_type": "code",
   "execution_count": 69,
   "metadata": {
    "ExecuteTime": {
     "end_time": "2019-05-14T04:37:45.674137Z",
     "start_time": "2019-05-14T04:37:38.663331Z"
    }
   },
   "outputs": [],
   "source": [
    "for path_old,path_new in zip(list_images_defective,list_image_outputs_defective):\n",
    "    read_resize_and_save(path_old,path_new)"
   ]
  },
  {
   "cell_type": "markdown",
   "metadata": {},
   "source": [
    "### Resize non-defective images"
   ]
  },
  {
   "cell_type": "code",
   "execution_count": 70,
   "metadata": {
    "ExecuteTime": {
     "end_time": "2019-05-14T04:37:45.792403Z",
     "start_time": "2019-05-14T04:37:45.679689Z"
    }
   },
   "outputs": [],
   "source": [
    "list_images_not_defective = get_valid_images_in_path(PATH_INPUT_NOT_DEFECTIVE)\n",
    "\n",
    "list_image_outputs_not_defective = list(\n",
    "    map(lambda x: os.path.join(PATH_OUTPUT_NOT_DEFECTIVE, os.path.basename(x)),\n",
    "        list_images_not_defective))"
   ]
  },
  {
   "cell_type": "code",
   "execution_count": 71,
   "metadata": {
    "ExecuteTime": {
     "end_time": "2019-05-14T04:37:45.803567Z",
     "start_time": "2019-05-14T04:37:45.796453Z"
    }
   },
   "outputs": [],
   "source": [
    "assert(len(list_image_outputs_not_defective)==len(list_images_not_defective))"
   ]
  },
  {
   "cell_type": "code",
   "execution_count": 72,
   "metadata": {
    "ExecuteTime": {
     "end_time": "2019-05-14T04:37:45.827631Z",
     "start_time": "2019-05-14T04:37:45.807281Z"
    }
   },
   "outputs": [
    {
     "data": {
      "text/plain": [
       "['/Users/shyamravikumar/Documents/Box Sync/Final Project - Image Detection/03 Defect Images/Organized and Cleaned/Not Defective/Sample 1 - Pattern 4 - 1.JPG',\n",
       " '/Users/shyamravikumar/Documents/Box Sync/Final Project - Image Detection/03 Defect Images/Organized and Cleaned/Not Defective/Sample 1 - Pattern 4 - 10.JPG',\n",
       " '/Users/shyamravikumar/Documents/Box Sync/Final Project - Image Detection/03 Defect Images/Organized and Cleaned/Not Defective/Sample 1 - Pattern 4 - 11.JPG',\n",
       " '/Users/shyamravikumar/Documents/Box Sync/Final Project - Image Detection/03 Defect Images/Organized and Cleaned/Not Defective/Sample 1 - Pattern 4 - 12.JPG',\n",
       " '/Users/shyamravikumar/Documents/Box Sync/Final Project - Image Detection/03 Defect Images/Organized and Cleaned/Not Defective/Sample 1 - Pattern 4 - 13.JPG']"
      ]
     },
     "execution_count": 72,
     "metadata": {},
     "output_type": "execute_result"
    },
    {
     "data": {
      "text/plain": [
       "['/Users/shyamravikumar/Documents/Workspace/BAI - Project/Input Files/Large/1. Resized Images/non_defective_lav/Sample 1 - Pattern 4 - 1.JPG',\n",
       " '/Users/shyamravikumar/Documents/Workspace/BAI - Project/Input Files/Large/1. Resized Images/non_defective_lav/Sample 1 - Pattern 4 - 10.JPG',\n",
       " '/Users/shyamravikumar/Documents/Workspace/BAI - Project/Input Files/Large/1. Resized Images/non_defective_lav/Sample 1 - Pattern 4 - 11.JPG',\n",
       " '/Users/shyamravikumar/Documents/Workspace/BAI - Project/Input Files/Large/1. Resized Images/non_defective_lav/Sample 1 - Pattern 4 - 12.JPG',\n",
       " '/Users/shyamravikumar/Documents/Workspace/BAI - Project/Input Files/Large/1. Resized Images/non_defective_lav/Sample 1 - Pattern 4 - 13.JPG']"
      ]
     },
     "execution_count": 72,
     "metadata": {},
     "output_type": "execute_result"
    }
   ],
   "source": [
    "list_images_not_defective[:5]\n",
    "list_image_outputs_not_defective[:5]"
   ]
  },
  {
   "cell_type": "code",
   "execution_count": 73,
   "metadata": {
    "ExecuteTime": {
     "end_time": "2019-05-14T04:38:16.918173Z",
     "start_time": "2019-05-14T04:37:45.837117Z"
    }
   },
   "outputs": [],
   "source": [
    "for path_old,path_new in zip(list_images_not_defective,list_image_outputs_not_defective):\n",
    "    read_resize_and_save(path_old,path_new)"
   ]
  },
  {
   "cell_type": "code",
   "execution_count": null,
   "metadata": {},
   "outputs": [],
   "source": []
  },
  {
   "cell_type": "code",
   "execution_count": null,
   "metadata": {},
   "outputs": [],
   "source": []
  }
 ],
 "metadata": {
  "kernelspec": {
   "display_name": "Python (BAI)",
   "language": "python",
   "name": "bai_project_py"
  },
  "language_info": {
   "codemirror_mode": {
    "name": "ipython",
    "version": 3
   },
   "file_extension": ".py",
   "mimetype": "text/x-python",
   "name": "python",
   "nbconvert_exporter": "python",
   "pygments_lexer": "ipython3",
   "version": "3.6.8"
  },
  "toc": {
   "base_numbering": 1,
   "nav_menu": {},
   "number_sections": true,
   "sideBar": true,
   "skip_h1_title": true,
   "title_cell": "Table of Contents",
   "title_sidebar": "Contents",
   "toc_cell": true,
   "toc_position": {},
   "toc_section_display": true,
   "toc_window_display": true
  },
  "varInspector": {
   "cols": {
    "lenName": 16,
    "lenType": 16,
    "lenVar": 40
   },
   "kernels_config": {
    "python": {
     "delete_cmd_postfix": "",
     "delete_cmd_prefix": "del ",
     "library": "var_list.py",
     "varRefreshCmd": "print(var_dic_list())"
    },
    "r": {
     "delete_cmd_postfix": ") ",
     "delete_cmd_prefix": "rm(",
     "library": "var_list.r",
     "varRefreshCmd": "cat(var_dic_list()) "
    }
   },
   "types_to_exclude": [
    "module",
    "function",
    "builtin_function_or_method",
    "instance",
    "_Feature"
   ],
   "window_display": false
  }
 },
 "nbformat": 4,
 "nbformat_minor": 2
}
