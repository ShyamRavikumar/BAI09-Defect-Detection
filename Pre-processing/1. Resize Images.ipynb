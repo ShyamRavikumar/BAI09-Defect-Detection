{
 "cells": [
  {
   "cell_type": "markdown",
   "metadata": {},
   "source": [
    "# Resize all input images for easier processing"
   ]
  },
  {
   "cell_type": "markdown",
   "metadata": {
    "toc": true
   },
   "source": [
    "<h1>Table of Contents<span class=\"tocSkip\"></span></h1>\n",
    "<div class=\"toc\"><ul class=\"toc-item\"><li><span><a href=\"#Import-required-libraries\" data-toc-modified-id=\"Import-required-libraries-1\"><span class=\"toc-item-num\">1&nbsp;&nbsp;</span>Import required libraries</a></span></li><li><span><a href=\"#Create-a-dataframe-with-images-from-all-subfolders-in-PATH_INPUT\" data-toc-modified-id=\"Create-a-dataframe-with-images-from-all-subfolders-in-PATH_INPUT-2\"><span class=\"toc-item-num\">2&nbsp;&nbsp;</span>Create a dataframe with images from all subfolders in PATH_INPUT</a></span><ul class=\"toc-item\"><li><span><a href=\"#Get-list-of-valid-images-in-a-path\" data-toc-modified-id=\"Get-list-of-valid-images-in-a-path-2.1\"><span class=\"toc-item-num\">2.1&nbsp;&nbsp;</span>Get list of valid images in a path</a></span></li><li><span><a href=\"#Place-the-list-of-images-into-a-dataframe\" data-toc-modified-id=\"Place-the-list-of-images-into-a-dataframe-2.2\"><span class=\"toc-item-num\">2.2&nbsp;&nbsp;</span>Place the list of images into a dataframe</a></span></li><li><span><a href=\"#Create-output-directories-to-store-the-augmented-images\" data-toc-modified-id=\"Create-output-directories-to-store-the-augmented-images-2.3\"><span class=\"toc-item-num\">2.3&nbsp;&nbsp;</span>Create output directories to store the augmented images</a></span></li></ul></li><li><span><a href=\"#Resize-Images\" data-toc-modified-id=\"Resize-Images-3\"><span class=\"toc-item-num\">3&nbsp;&nbsp;</span>Resize Images</a></span></li><li><span><a href=\"#Resize-images\" data-toc-modified-id=\"Resize-images-4\"><span class=\"toc-item-num\">4&nbsp;&nbsp;</span>Resize images</a></span><ul class=\"toc-item\"><li><span><a href=\"#Helper-function-for-reading,-resizing-and-saving-images-to-a-location\" data-toc-modified-id=\"Helper-function-for-reading,-resizing-and-saving-images-to-a-location-4.1\"><span class=\"toc-item-num\">4.1&nbsp;&nbsp;</span>Helper function for reading, resizing and saving images to a location</a></span></li><li><span><a href=\"#Resize-the-images\" data-toc-modified-id=\"Resize-the-images-4.2\"><span class=\"toc-item-num\">4.2&nbsp;&nbsp;</span>Resize the images</a></span></li></ul></li></ul></div>"
   ]
  },
  {
   "cell_type": "markdown",
   "metadata": {},
   "source": [
    "## Import required libraries"
   ]
  },
  {
   "cell_type": "code",
   "execution_count": 3,
   "metadata": {
    "ExecuteTime": {
     "end_time": "2019-05-16T05:41:43.871991Z",
     "start_time": "2019-05-16T05:41:41.961654Z"
    }
   },
   "outputs": [],
   "source": [
    "import os\n",
    "import pandas as pd\n",
    "import cv2\n",
    "import matplotlib.pyplot as plt\n",
    "import imutils\n",
    "import shutil"
   ]
  },
  {
   "cell_type": "code",
   "execution_count": 4,
   "metadata": {
    "ExecuteTime": {
     "end_time": "2019-05-16T05:41:43.901325Z",
     "start_time": "2019-05-16T05:41:43.893417Z"
    }
   },
   "outputs": [],
   "source": [
    "from IPython.core.interactiveshell import InteractiveShell\n",
    "InteractiveShell.ast_node_interactivity = \"all\""
   ]
  },
  {
   "cell_type": "code",
   "execution_count": 5,
   "metadata": {
    "ExecuteTime": {
     "end_time": "2019-05-16T05:41:43.932406Z",
     "start_time": "2019-05-16T05:41:43.917798Z"
    }
   },
   "outputs": [],
   "source": [
    "%matplotlib inline"
   ]
  },
  {
   "cell_type": "code",
   "execution_count": 30,
   "metadata": {
    "ExecuteTime": {
     "end_time": "2019-05-16T05:49:15.126576Z",
     "start_time": "2019-05-16T05:49:15.122375Z"
    }
   },
   "outputs": [],
   "source": [
    "PATH_INPUT = r'/Users/shyamravikumar/Documents/Box Sync/Final Project - Image Detection/03 Defect Images/For Testing Purpose - Priyank'\n",
    "PATH_OUTPUT = r'/Users/shyamravikumar/Documents/Workspace/BAI - Project/Input Files/V2/Small/1. Resized Images'"
   ]
  },
  {
   "cell_type": "code",
   "execution_count": 31,
   "metadata": {
    "ExecuteTime": {
     "end_time": "2019-05-16T05:49:15.683621Z",
     "start_time": "2019-05-16T05:49:15.678970Z"
    }
   },
   "outputs": [],
   "source": [
    "# Source image size - (3672, 4896, 3)\n",
    "# ASPECT_RATIO = 4896/3672\n",
    "\n",
    "# Size for small images\n",
    "HEIGHT_NEW = 306\n",
    "WIDTH_NEW = 408 \n",
    "\n",
    "# Size for large images\n",
    "# HEIGHT_NEW = 612\n",
    "# WIDTH_NEW = 816"
   ]
  },
  {
   "cell_type": "markdown",
   "metadata": {},
   "source": [
    "## Create a dataframe with images from all subfolders in PATH_INPUT"
   ]
  },
  {
   "cell_type": "markdown",
   "metadata": {},
   "source": [
    "### Get list of valid images in a path"
   ]
  },
  {
   "cell_type": "code",
   "execution_count": 32,
   "metadata": {
    "ExecuteTime": {
     "end_time": "2019-05-16T05:49:16.478549Z",
     "start_time": "2019-05-16T05:49:16.471427Z"
    },
    "code_folding": [
     0
    ]
   },
   "outputs": [],
   "source": [
    "def get_valid_images_in_path(path):\n",
    "    \"\"\"\n",
    "    Return a list of valid images in a path\n",
    "    \n",
    "    Parameters\n",
    "    ----------\n",
    "        \n",
    "        path: str\n",
    "            Location where the images are stored\n",
    "            \n",
    "    Returns\n",
    "    -------\n",
    "        \n",
    "        list of str: List of images obtained from the directory\n",
    "        \n",
    "    \"\"\"\n",
    "    from keras_preprocessing.image.utils import _iter_valid_files\n",
    "    from keras_preprocessing.image.directory_iterator import DirectoryIterator\n",
    "    \n",
    "    list_files = list(\n",
    "        _iter_valid_files(path,\n",
    "                          DirectoryIterator.white_list_formats,\n",
    "                          follow_links=False))\n",
    "    list_files = list(map(lambda x: os.path.join(*x), list_files))\n",
    "    return list_files"
   ]
  },
  {
   "cell_type": "code",
   "execution_count": 33,
   "metadata": {
    "ExecuteTime": {
     "end_time": "2019-05-16T05:49:16.545233Z",
     "start_time": "2019-05-16T05:49:16.535506Z"
    }
   },
   "outputs": [
    {
     "data": {
      "text/plain": [
       "['defective_lav', 'defective_ldl', 'non_defective', 'non_defective_bubbles']"
      ]
     },
     "execution_count": 33,
     "metadata": {},
     "output_type": "execute_result"
    }
   ],
   "source": [
    "# Identify the list of available categories/classes\n",
    "classes = []\n",
    "for subdir in sorted(os.listdir(PATH_INPUT)):\n",
    "    if os.path.isdir(os.path.join(PATH_INPUT, subdir)):\n",
    "        classes.append(subdir)\n",
    "classes"
   ]
  },
  {
   "cell_type": "markdown",
   "metadata": {},
   "source": [
    "### Place the list of images into a dataframe"
   ]
  },
  {
   "cell_type": "code",
   "execution_count": 34,
   "metadata": {
    "ExecuteTime": {
     "end_time": "2019-05-16T05:49:17.021141Z",
     "start_time": "2019-05-16T05:49:17.006987Z"
    }
   },
   "outputs": [],
   "source": [
    "list_dataframes = []\n",
    "for category in classes:\n",
    "    path_category = os.path.join(PATH_INPUT, category)\n",
    "    list_images = get_valid_images_in_path(path_category)\n",
    "    list_dataframes.append(\n",
    "        pd.DataFrame({\n",
    "            'path': list_images,\n",
    "            'class': np.repeat(category, len(list_images))\n",
    "        })\n",
    "    )"
   ]
  },
  {
   "cell_type": "code",
   "execution_count": 35,
   "metadata": {
    "ExecuteTime": {
     "end_time": "2019-05-16T05:49:17.997653Z",
     "start_time": "2019-05-16T05:49:17.987644Z"
    }
   },
   "outputs": [],
   "source": [
    "data_images = pd.concat(list_dataframes)\n",
    "data_images['filename'] = data_images['path'].apply(os.path.basename)"
   ]
  },
  {
   "cell_type": "code",
   "execution_count": 36,
   "metadata": {
    "ExecuteTime": {
     "end_time": "2019-05-16T05:49:18.188060Z",
     "start_time": "2019-05-16T05:49:18.173906Z"
    }
   },
   "outputs": [],
   "source": [
    "# Create a column to identify the output path\n",
    "data_images['path_output'] = data_images.apply(lambda x: os.path.join(PATH_OUTPUT, x['class'],x['filename']),axis=1)"
   ]
  },
  {
   "cell_type": "code",
   "execution_count": 37,
   "metadata": {
    "ExecuteTime": {
     "end_time": "2019-05-16T05:49:18.933718Z",
     "start_time": "2019-05-16T05:49:18.917991Z"
    }
   },
   "outputs": [
    {
     "data": {
      "text/html": [
       "<div>\n",
       "<style scoped>\n",
       "    .dataframe tbody tr th:only-of-type {\n",
       "        vertical-align: middle;\n",
       "    }\n",
       "\n",
       "    .dataframe tbody tr th {\n",
       "        vertical-align: top;\n",
       "    }\n",
       "\n",
       "    .dataframe thead th {\n",
       "        text-align: right;\n",
       "    }\n",
       "</style>\n",
       "<table border=\"1\" class=\"dataframe\">\n",
       "  <thead>\n",
       "    <tr style=\"text-align: right;\">\n",
       "      <th></th>\n",
       "      <th>path</th>\n",
       "      <th>class</th>\n",
       "      <th>filename</th>\n",
       "      <th>path_output</th>\n",
       "    </tr>\n",
       "  </thead>\n",
       "  <tbody>\n",
       "    <tr>\n",
       "      <th>0</th>\n",
       "      <td>/Users/shyamravikumar/Documents/Box Sync/Final...</td>\n",
       "      <td>defective_lav</td>\n",
       "      <td>Sample 2 - Pattern 1 - 1.JPG</td>\n",
       "      <td>/Users/shyamravikumar/Documents/Workspace/BAI ...</td>\n",
       "    </tr>\n",
       "    <tr>\n",
       "      <th>1</th>\n",
       "      <td>/Users/shyamravikumar/Documents/Box Sync/Final...</td>\n",
       "      <td>defective_lav</td>\n",
       "      <td>Sample 3 - Pattern 1 - 1.JPG</td>\n",
       "      <td>/Users/shyamravikumar/Documents/Workspace/BAI ...</td>\n",
       "    </tr>\n",
       "    <tr>\n",
       "      <th>2</th>\n",
       "      <td>/Users/shyamravikumar/Documents/Box Sync/Final...</td>\n",
       "      <td>defective_lav</td>\n",
       "      <td>Sample 3 - Pattern 1 - 2.JPG</td>\n",
       "      <td>/Users/shyamravikumar/Documents/Workspace/BAI ...</td>\n",
       "    </tr>\n",
       "    <tr>\n",
       "      <th>3</th>\n",
       "      <td>/Users/shyamravikumar/Documents/Box Sync/Final...</td>\n",
       "      <td>defective_lav</td>\n",
       "      <td>Sample 5 - Pattern 1 - 1.JPG</td>\n",
       "      <td>/Users/shyamravikumar/Documents/Workspace/BAI ...</td>\n",
       "    </tr>\n",
       "    <tr>\n",
       "      <th>4</th>\n",
       "      <td>/Users/shyamravikumar/Documents/Box Sync/Final...</td>\n",
       "      <td>defective_lav</td>\n",
       "      <td>Sample 5 - Pattern 1 - 2.JPG</td>\n",
       "      <td>/Users/shyamravikumar/Documents/Workspace/BAI ...</td>\n",
       "    </tr>\n",
       "  </tbody>\n",
       "</table>\n",
       "</div>"
      ],
      "text/plain": [
       "                                                path          class  \\\n",
       "0  /Users/shyamravikumar/Documents/Box Sync/Final...  defective_lav   \n",
       "1  /Users/shyamravikumar/Documents/Box Sync/Final...  defective_lav   \n",
       "2  /Users/shyamravikumar/Documents/Box Sync/Final...  defective_lav   \n",
       "3  /Users/shyamravikumar/Documents/Box Sync/Final...  defective_lav   \n",
       "4  /Users/shyamravikumar/Documents/Box Sync/Final...  defective_lav   \n",
       "\n",
       "                       filename  \\\n",
       "0  Sample 2 - Pattern 1 - 1.JPG   \n",
       "1  Sample 3 - Pattern 1 - 1.JPG   \n",
       "2  Sample 3 - Pattern 1 - 2.JPG   \n",
       "3  Sample 5 - Pattern 1 - 1.JPG   \n",
       "4  Sample 5 - Pattern 1 - 2.JPG   \n",
       "\n",
       "                                         path_output  \n",
       "0  /Users/shyamravikumar/Documents/Workspace/BAI ...  \n",
       "1  /Users/shyamravikumar/Documents/Workspace/BAI ...  \n",
       "2  /Users/shyamravikumar/Documents/Workspace/BAI ...  \n",
       "3  /Users/shyamravikumar/Documents/Workspace/BAI ...  \n",
       "4  /Users/shyamravikumar/Documents/Workspace/BAI ...  "
      ]
     },
     "execution_count": 37,
     "metadata": {},
     "output_type": "execute_result"
    }
   ],
   "source": [
    "data_images.head()"
   ]
  },
  {
   "cell_type": "code",
   "execution_count": 38,
   "metadata": {
    "ExecuteTime": {
     "end_time": "2019-05-16T05:49:19.186630Z",
     "start_time": "2019-05-16T05:49:19.179416Z"
    }
   },
   "outputs": [
    {
     "data": {
      "text/plain": [
       "array(['/Users/shyamravikumar/Documents/Box Sync/Final Project - Image Detection/03 Defect Images/For Testing Purpose - Priyank/defective_lav/Sample 2 - Pattern 1 - 1.JPG',\n",
       "       'defective_lav', 'Sample 2 - Pattern 1 - 1.JPG',\n",
       "       '/Users/shyamravikumar/Documents/Workspace/BAI - Project/Input Files/V2/Small/1. Resized Images/defective_lav/Sample 2 - Pattern 1 - 1.JPG'],\n",
       "      dtype=object)"
      ]
     },
     "execution_count": 38,
     "metadata": {},
     "output_type": "execute_result"
    }
   ],
   "source": [
    "data_images.iloc[0].values"
   ]
  },
  {
   "cell_type": "markdown",
   "metadata": {},
   "source": [
    "### Create output directories to store the augmented images"
   ]
  },
  {
   "cell_type": "code",
   "execution_count": 40,
   "metadata": {
    "ExecuteTime": {
     "end_time": "2019-05-16T05:49:53.296132Z",
     "start_time": "2019-05-16T05:49:53.288795Z"
    }
   },
   "outputs": [],
   "source": [
    "# Ensure that the required o/p directories (for each class) exist. If not, they will be created\n",
    "for feature in classes:\n",
    "    folder = os.path.join(PATH_OUTPUT, feature)\n",
    "    if not os.path.exists(folder):\n",
    "        os.mkdir(folder)"
   ]
  },
  {
   "cell_type": "markdown",
   "metadata": {},
   "source": [
    "## Resize Images"
   ]
  },
  {
   "cell_type": "markdown",
   "metadata": {},
   "source": [
    "Set the desired height and width for each image (in pixels)"
   ]
  },
  {
   "cell_type": "markdown",
   "metadata": {},
   "source": [
    "## Resize images"
   ]
  },
  {
   "cell_type": "markdown",
   "metadata": {},
   "source": [
    "### Helper function for reading, resizing and saving images to a location"
   ]
  },
  {
   "cell_type": "code",
   "execution_count": 41,
   "metadata": {
    "ExecuteTime": {
     "end_time": "2019-05-16T05:49:59.076490Z",
     "start_time": "2019-05-16T05:49:59.071351Z"
    }
   },
   "outputs": [],
   "source": [
    "def read_resize_and_save(path_old,path_new):\n",
    "    img = cv2.imread(path_old)\n",
    "    img = cv2.resize(img,(WIDTH_NEW,HEIGHT_NEW))\n",
    "    cv2.imwrite(path_new,img)"
   ]
  },
  {
   "cell_type": "markdown",
   "metadata": {},
   "source": [
    "### Resize the images"
   ]
  },
  {
   "cell_type": "code",
   "execution_count": 42,
   "metadata": {
    "ExecuteTime": {
     "end_time": "2019-05-16T05:50:53.904024Z",
     "start_time": "2019-05-16T05:50:04.486837Z"
    }
   },
   "outputs": [
    {
     "data": {
      "text/plain": [
       "0     None\n",
       "1     None\n",
       "2     None\n",
       "3     None\n",
       "4     None\n",
       "5     None\n",
       "6     None\n",
       "7     None\n",
       "8     None\n",
       "9     None\n",
       "10    None\n",
       "11    None\n",
       "12    None\n",
       "13    None\n",
       "14    None\n",
       "15    None\n",
       "0     None\n",
       "1     None\n",
       "2     None\n",
       "3     None\n",
       "4     None\n",
       "5     None\n",
       "6     None\n",
       "7     None\n",
       "8     None\n",
       "9     None\n",
       "10    None\n",
       "11    None\n",
       "12    None\n",
       "13    None\n",
       "      ... \n",
       "7     None\n",
       "8     None\n",
       "9     None\n",
       "10    None\n",
       "11    None\n",
       "12    None\n",
       "13    None\n",
       "14    None\n",
       "15    None\n",
       "16    None\n",
       "17    None\n",
       "18    None\n",
       "19    None\n",
       "20    None\n",
       "21    None\n",
       "22    None\n",
       "23    None\n",
       "24    None\n",
       "25    None\n",
       "26    None\n",
       "27    None\n",
       "28    None\n",
       "29    None\n",
       "30    None\n",
       "31    None\n",
       "32    None\n",
       "33    None\n",
       "34    None\n",
       "35    None\n",
       "36    None\n",
       "Length: 127, dtype: object"
      ]
     },
     "execution_count": 42,
     "metadata": {},
     "output_type": "execute_result"
    }
   ],
   "source": [
    "data_images.apply(lambda x: read_resize_and_save(x['path'],x['path_output']),axis=1)"
   ]
  }
 ],
 "metadata": {
  "kernelspec": {
   "display_name": "Python (BAI)",
   "language": "python",
   "name": "bai_project_py"
  },
  "language_info": {
   "codemirror_mode": {
    "name": "ipython",
    "version": 3
   },
   "file_extension": ".py",
   "mimetype": "text/x-python",
   "name": "python",
   "nbconvert_exporter": "python",
   "pygments_lexer": "ipython3",
   "version": "3.6.8"
  },
  "toc": {
   "base_numbering": 1,
   "nav_menu": {},
   "number_sections": true,
   "sideBar": true,
   "skip_h1_title": true,
   "title_cell": "Table of Contents",
   "title_sidebar": "Contents",
   "toc_cell": true,
   "toc_position": {},
   "toc_section_display": true,
   "toc_window_display": true
  },
  "varInspector": {
   "cols": {
    "lenName": 16,
    "lenType": 16,
    "lenVar": 40
   },
   "kernels_config": {
    "python": {
     "delete_cmd_postfix": "",
     "delete_cmd_prefix": "del ",
     "library": "var_list.py",
     "varRefreshCmd": "print(var_dic_list())"
    },
    "r": {
     "delete_cmd_postfix": ") ",
     "delete_cmd_prefix": "rm(",
     "library": "var_list.r",
     "varRefreshCmd": "cat(var_dic_list()) "
    }
   },
   "types_to_exclude": [
    "module",
    "function",
    "builtin_function_or_method",
    "instance",
    "_Feature"
   ],
   "window_display": false
  }
 },
 "nbformat": 4,
 "nbformat_minor": 2
}
