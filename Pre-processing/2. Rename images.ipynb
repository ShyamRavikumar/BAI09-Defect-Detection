{
 "cells": [
  {
   "cell_type": "markdown",
   "metadata": {},
   "source": [
    "Goal - Rename all images in a directory in a standardized numerical sequential format, and create an excel file to map old image names to new ones\n",
    "\n",
    "Note: Assumes all images are in one format (Eg: JPG)"
   ]
  },
  {
   "cell_type": "markdown",
   "metadata": {
    "toc": true
   },
   "source": [
    "<h1>Table of Contents<span class=\"tocSkip\"></span></h1>\n",
    "<div class=\"toc\"><ul class=\"toc-item\"><li><span><a href=\"#Imports\" data-toc-modified-id=\"Imports-1\"><span class=\"toc-item-num\">1&nbsp;&nbsp;</span>Imports</a></span></li><li><span><a href=\"#Define-helper-functions-useful-for-movement\" data-toc-modified-id=\"Define-helper-functions-useful-for-movement-2\"><span class=\"toc-item-num\">2&nbsp;&nbsp;</span>Define helper functions useful for movement</a></span></li></ul></div>"
   ]
  },
  {
   "cell_type": "markdown",
   "metadata": {},
   "source": [
    "## Imports"
   ]
  },
  {
   "cell_type": "code",
   "execution_count": 1,
   "metadata": {
    "ExecuteTime": {
     "end_time": "2019-05-16T05:54:53.142047Z",
     "start_time": "2019-05-16T05:54:52.255950Z"
    }
   },
   "outputs": [],
   "source": [
    "import os\n",
    "import numpy as np\n",
    "import pandas as pd"
   ]
  },
  {
   "cell_type": "code",
   "execution_count": 2,
   "metadata": {
    "ExecuteTime": {
     "end_time": "2019-05-16T05:54:53.174945Z",
     "start_time": "2019-05-16T05:54:53.169476Z"
    }
   },
   "outputs": [],
   "source": [
    "from IPython.core.interactiveshell import InteractiveShell\n",
    "InteractiveShell.ast_node_interactivity = \"all\""
   ]
  },
  {
   "cell_type": "code",
   "execution_count": 10,
   "metadata": {
    "ExecuteTime": {
     "end_time": "2019-05-16T05:57:15.837475Z",
     "start_time": "2019-05-16T05:57:15.808567Z"
    }
   },
   "outputs": [],
   "source": [
    "EXTENSION_IMAGES = \".JPG\"\n",
    "PATH_INPUT = r'/Users/shyamravikumar/Documents/Workspace/BAI - Project/Input Files/V2/Small/2. Renamed Images'\n",
    "PATH_MAPPING_FILES = r'/Users/shyamravikumar/Documents/Workspace/BAI - Project/Input Files/V2/Small/Mapping Files'\n",
    "\n",
    "# Provide list of locations for which the fix needs to be applied - Each item in the list is a 3 item tuple containing a path, a prefix for each file names, and the location of the output text file\n",
    "LIST_CONFIG = [\n",
    "    (os.path.join(PATH_INPUT,'defective_lav'),\n",
    "     'def_lav_',\n",
    "     os.path.join(PATH_MAPPING_FILES,'mapping_filenames_def_lav.csv')\n",
    "     ),\n",
    "    (os.path.join(PATH_INPUT,'defective_ldl'),\n",
    "     'def_ldl_',\n",
    "     os.path.join(PATH_MAPPING_FILES,'mapping_filenames_def_ldl.csv')\n",
    "     ),\n",
    "    (os.path.join(PATH_INPUT,'non_defective'),\n",
    "     'nondef_',\n",
    "     os.path.join(PATH_MAPPING_FILES,'mapping_filenames_nondef.csv')\n",
    "     ),\n",
    "    (os.path.join(PATH_INPUT,'non_defective_bubbles'),\n",
    "     'nondef_bubbles_',\n",
    "     os.path.join(PATH_MAPPING_FILES,'mapping_filenames_nondef_bubbles.csv')\n",
    "     )\n",
    "]"
   ]
  },
  {
   "cell_type": "markdown",
   "metadata": {},
   "source": [
    "## Define helper functions useful for movement"
   ]
  },
  {
   "cell_type": "code",
   "execution_count": 11,
   "metadata": {
    "ExecuteTime": {
     "end_time": "2019-05-16T05:57:16.546542Z",
     "start_time": "2019-05-16T05:57:16.530252Z"
    },
    "code_folding": [
     0
    ]
   },
   "outputs": [],
   "source": [
    "def get_valid_images_in_path(path):\n",
    "    \"\"\"\n",
    "    Return a list of valid images in a path\n",
    "    \n",
    "    Parameters\n",
    "    ----------\n",
    "        \n",
    "        path: str\n",
    "            Location where the images are stored\n",
    "            \n",
    "    Returns\n",
    "    -------\n",
    "        \n",
    "        list of str: List of images obtained from the directory\n",
    "        \n",
    "    \"\"\"\n",
    "    from keras_preprocessing.image.utils import _iter_valid_files\n",
    "    from keras_preprocessing.image.directory_iterator import DirectoryIterator\n",
    "    \n",
    "    list_files = list(\n",
    "        _iter_valid_files(path,\n",
    "                          DirectoryIterator.white_list_formats,\n",
    "                          follow_links=False))\n",
    "    list_files = list(map(lambda x: os.path.join(*x), list_files))\n",
    "    return list_files"
   ]
  },
  {
   "cell_type": "code",
   "execution_count": 12,
   "metadata": {
    "ExecuteTime": {
     "end_time": "2019-05-16T05:57:16.810794Z",
     "start_time": "2019-05-16T05:57:16.803649Z"
    }
   },
   "outputs": [],
   "source": [
    "def rename(path_old,path_new):\n",
    "    os.rename(path_old,path_new)"
   ]
  },
  {
   "cell_type": "code",
   "execution_count": 13,
   "metadata": {
    "ExecuteTime": {
     "end_time": "2019-05-16T05:57:17.967213Z",
     "start_time": "2019-05-16T05:57:17.858708Z"
    }
   },
   "outputs": [],
   "source": [
    "for path_input, prefix, path_mapping in LIST_CONFIG:\n",
    "    #Read the folder path, prefix & path for storing the mapping file, for each item in LIST_CONFIG\n",
    "\n",
    "    #Read all valid images in the path\n",
    "    list_images = get_valid_images_in_path(path_input)\n",
    "    num_images = len(list_images)\n",
    "\n",
    "    #Convert the result to a dataframe, with a sequential identifier for each row\n",
    "    data_mapping = pd.DataFrame({\n",
    "        'path_input': list_images,\n",
    "        'identifier_base': np.arange(1, num_images + 1)\n",
    "    })\n",
    "\n",
    "    #Identify the name of the renamed file\n",
    "    data_mapping['path_output'] = data_mapping['identifier_base'].astype(\n",
    "        'str').apply(lambda x: os.path.join(path_input, prefix + x +\n",
    "                                            EXTENSION_IMAGES))\n",
    "\n",
    "    data_mapping['filename_input'] = data_mapping['path_input'].apply(\n",
    "        os.path.basename)\n",
    "    data_mapping['filename_output'] = data_mapping['path_output'].apply(\n",
    "        os.path.basename)\n",
    "\n",
    "    #Apply the rename function on each row\n",
    "    temp = data_mapping.apply(lambda x: rename(x['path_input'], x['path_output'\n",
    "                                                                  ]),\n",
    "                              axis=1)\n",
    "\n",
    "    #Save the mapping file\n",
    "    data_mapping.drop(columns=['identifier_base']).to_csv(path_mapping,\n",
    "                                                          index=False)"
   ]
  },
  {
   "cell_type": "markdown",
   "metadata": {},
   "source": [
    "One more thing to be done - Multiple categories for non-defective are not required. Hence, merge the folders"
   ]
  }
 ],
 "metadata": {
  "kernelspec": {
   "display_name": "Python (BAI)",
   "language": "python",
   "name": "bai_project_py"
  },
  "language_info": {
   "codemirror_mode": {
    "name": "ipython",
    "version": 3
   },
   "file_extension": ".py",
   "mimetype": "text/x-python",
   "name": "python",
   "nbconvert_exporter": "python",
   "pygments_lexer": "ipython3",
   "version": "3.6.8"
  },
  "toc": {
   "base_numbering": 1,
   "nav_menu": {},
   "number_sections": true,
   "sideBar": true,
   "skip_h1_title": true,
   "title_cell": "Table of Contents",
   "title_sidebar": "Contents",
   "toc_cell": true,
   "toc_position": {},
   "toc_section_display": true,
   "toc_window_display": true
  },
  "varInspector": {
   "cols": {
    "lenName": 16,
    "lenType": 16,
    "lenVar": 40
   },
   "kernels_config": {
    "python": {
     "delete_cmd_postfix": "",
     "delete_cmd_prefix": "del ",
     "library": "var_list.py",
     "varRefreshCmd": "print(var_dic_list())"
    },
    "r": {
     "delete_cmd_postfix": ") ",
     "delete_cmd_prefix": "rm(",
     "library": "var_list.r",
     "varRefreshCmd": "cat(var_dic_list()) "
    }
   },
   "types_to_exclude": [
    "module",
    "function",
    "builtin_function_or_method",
    "instance",
    "_Feature"
   ],
   "window_display": false
  }
 },
 "nbformat": 4,
 "nbformat_minor": 2
}
