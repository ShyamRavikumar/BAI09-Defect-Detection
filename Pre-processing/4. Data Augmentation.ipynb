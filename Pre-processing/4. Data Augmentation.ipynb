{
 "cells": [
  {
   "cell_type": "markdown",
   "metadata": {},
   "source": [
    "# Augmentation of image samples"
   ]
  },
  {
   "cell_type": "markdown",
   "metadata": {},
   "source": [
    "Purpose of the document: To provide a interface for batch processing of image augmentations across a sample extracted from all images in the input"
   ]
  },
  {
   "cell_type": "markdown",
   "metadata": {},
   "source": [
    "Augmentations performed:\n",
    "\n",
    "<ul>\n",
    "    <li> Flips: Horizontal and vertical </li>\n",
    "    <li> Rotation, with size preservation - 60, 120, 180, 240, 300 degrees</li>\n",
    "    <li> Gaussian Noise (Salt) - p=0.01</li>\n",
    "    <li> Gaussian Blur - sigma=1.5</li>\n",
    "    <li> Inversion of channels - 0.4</li>\n",
    "    <li> Addition of contrast - 1.25</li>\n",
    "    <li> Multiply - 1.2</li>\n",
    "    <li> Sharpen images - alpha = (0,0.25)</li>\n",
    "    <li> Snow dust in air - p=0.029</li>\n",
    "</ul>"
   ]
  },
  {
   "cell_type": "markdown",
   "metadata": {
    "toc": true
   },
   "source": [
    "<h1>Table of Contents<span class=\"tocSkip\"></span></h1>\n",
    "<div class=\"toc\"><ul class=\"toc-item\"><li><span><a href=\"#Import-required-libraries-and-images\" data-toc-modified-id=\"Import-required-libraries-and-images-1\"><span class=\"toc-item-num\">1&nbsp;&nbsp;</span>Import required libraries and images</a></span><ul class=\"toc-item\"><li><span><a href=\"#Get-a-list-of-paths-for-all-images\" data-toc-modified-id=\"Get-a-list-of-paths-for-all-images-1.1\"><span class=\"toc-item-num\">1.1&nbsp;&nbsp;</span>Get a list of paths for all images</a></span></li><li><span><a href=\"#Place-the-list-of-images-into-a-dataframe\" data-toc-modified-id=\"Place-the-list-of-images-into-a-dataframe-1.2\"><span class=\"toc-item-num\">1.2&nbsp;&nbsp;</span>Place the list of images into a dataframe</a></span></li><li><span><a href=\"#Create-output-directories-to-store-the-augmented-images\" data-toc-modified-id=\"Create-output-directories-to-store-the-augmented-images-1.3\"><span class=\"toc-item-num\">1.3&nbsp;&nbsp;</span>Create output directories to store the augmented images</a></span></li></ul></li><li><span><a href=\"#Test-a-few-augmentations\" data-toc-modified-id=\"Test-a-few-augmentations-2\"><span class=\"toc-item-num\">2&nbsp;&nbsp;</span>Test a few augmentations</a></span></li><li><span><a href=\"#Define-augmentation-parameters\" data-toc-modified-id=\"Define-augmentation-parameters-3\"><span class=\"toc-item-num\">3&nbsp;&nbsp;</span>Define augmentation parameters</a></span></li><li><span><a href=\"#Create-combinations-of-all-acceptable-augmentations\" data-toc-modified-id=\"Create-combinations-of-all-acceptable-augmentations-4\"><span class=\"toc-item-num\">4&nbsp;&nbsp;</span>Create combinations of all acceptable augmentations</a></span></li><li><span><a href=\"#Create-a-dataframe-containing-all-possible-augmentations-for-each-image,-and-sample-it\" data-toc-modified-id=\"Create-a-dataframe-containing-all-possible-augmentations-for-each-image,-and-sample-it-5\"><span class=\"toc-item-num\">5&nbsp;&nbsp;</span>Create a dataframe containing all possible augmentations for each image, and sample it</a></span></li><li><span><a href=\"#Run-Augmentations\" data-toc-modified-id=\"Run-Augmentations-6\"><span class=\"toc-item-num\">6&nbsp;&nbsp;</span>Run Augmentations</a></span><ul class=\"toc-item\"><li><span><a href=\"#Create-a-list-of-all-augmentations\" data-toc-modified-id=\"Create-a-list-of-all-augmentations-6.1\"><span class=\"toc-item-num\">6.1&nbsp;&nbsp;</span>Create a list of all augmentations</a></span></li><li><span><a href=\"#Create-a-function-that-will-run-the-augmentations-for-each-image\" data-toc-modified-id=\"Create-a-function-that-will-run-the-augmentations-for-each-image-6.2\"><span class=\"toc-item-num\">6.2&nbsp;&nbsp;</span>Create a function that will run the augmentations for each image</a></span></li><li><span><a href=\"#Run-the-function-using-an-apply-function\" data-toc-modified-id=\"Run-the-function-using-an-apply-function-6.3\"><span class=\"toc-item-num\">6.3&nbsp;&nbsp;</span>Run the function using an apply function</a></span></li></ul></li><li><span><a href=\"#Callouts\" data-toc-modified-id=\"Callouts-7\"><span class=\"toc-item-num\">7&nbsp;&nbsp;</span>Callouts</a></span></li></ul></div>"
   ]
  },
  {
   "cell_type": "markdown",
   "metadata": {},
   "source": [
    "## Import required libraries and images"
   ]
  },
  {
   "cell_type": "code",
   "execution_count": 1,
   "metadata": {
    "ExecuteTime": {
     "end_time": "2019-05-26T12:53:51.955826Z",
     "start_time": "2019-05-26T12:53:48.977145Z"
    }
   },
   "outputs": [],
   "source": [
    "import os\n",
    "import imutils\n",
    "import cv2\n",
    "import imgaug as ia\n",
    "from imgaug import augmenters as iaa\n",
    "import pandas as pd"
   ]
  },
  {
   "cell_type": "code",
   "execution_count": 2,
   "metadata": {
    "ExecuteTime": {
     "end_time": "2019-05-26T12:53:51.993322Z",
     "start_time": "2019-05-26T12:53:51.986834Z"
    }
   },
   "outputs": [],
   "source": [
    "from IPython.core.interactiveshell import InteractiveShell\n",
    "InteractiveShell.ast_node_interactivity = \"all\""
   ]
  },
  {
   "cell_type": "code",
   "execution_count": 3,
   "metadata": {
    "ExecuteTime": {
     "end_time": "2019-05-26T12:53:52.118533Z",
     "start_time": "2019-05-26T12:53:52.019739Z"
    }
   },
   "outputs": [],
   "source": [
    "import matplotlib.pyplot as plt\n",
    "%matplotlib inline\n"
   ]
  },
  {
   "cell_type": "code",
   "execution_count": 9,
   "metadata": {
    "ExecuteTime": {
     "end_time": "2019-05-26T12:54:24.380352Z",
     "start_time": "2019-05-26T12:54:24.374193Z"
    }
   },
   "outputs": [],
   "source": [
    "# PATH_INPUT_TRAIN = r'/Users/shyamravikumar/Documents/Workspace/BAI - Project/Input Files/Small/3. Train Test split/train'\n",
    "PATH_INPUT_TRAIN = r'/Users/shyamravikumar/Documents/Workspace/BAI - Project/Input Files/V4/4. Train Test Split - Merged Categories/train'\n",
    "\n",
    "# Path to resized & cleaned input images\n",
    "PATH_OUTPUT = r'/Users/shyamravikumar/Documents/Workspace/BAI - Project/Input Files/V4/5. Augmented Images'\n",
    "# CSV File containing the list of augmentations applied\n",
    "PATH_MAPPING_FILES = os.path.join(PATH_OUTPUT,\"list_augmentations_applied.csv\")"
   ]
  },
  {
   "cell_type": "code",
   "execution_count": 10,
   "metadata": {
    "ExecuteTime": {
     "end_time": "2019-05-26T12:54:25.505504Z",
     "start_time": "2019-05-26T12:54:25.501516Z"
    }
   },
   "outputs": [],
   "source": [
    "SEED = 120"
   ]
  },
  {
   "cell_type": "markdown",
   "metadata": {},
   "source": [
    "### Get a list of paths for all images"
   ]
  },
  {
   "cell_type": "markdown",
   "metadata": {},
   "source": [
    "Ensure the paths are valid"
   ]
  },
  {
   "cell_type": "code",
   "execution_count": 47,
   "metadata": {
    "ExecuteTime": {
     "end_time": "2019-05-26T13:04:43.909755Z",
     "start_time": "2019-05-26T13:04:43.889057Z"
    }
   },
   "outputs": [],
   "source": [
    "check_exists_path = lambda x: os.path.exists(x)\n",
    "assert(check_exists_path(PATH_INPUT_TRAIN))\n",
    "assert(check_exists_path(PATH_OUTPUT))"
   ]
  },
  {
   "cell_type": "markdown",
   "metadata": {},
   "source": [
    "Helper Functions to get list of images in a path, and rename them"
   ]
  },
  {
   "cell_type": "code",
   "execution_count": 11,
   "metadata": {
    "ExecuteTime": {
     "end_time": "2019-05-26T12:54:26.740829Z",
     "start_time": "2019-05-26T12:54:26.735089Z"
    },
    "code_folding": [
     0
    ]
   },
   "outputs": [],
   "source": [
    "def get_valid_images_in_path(path):\n",
    "    \"\"\"\n",
    "    Return a list of valid images in a path\n",
    "    \n",
    "    Parameters\n",
    "    ----------\n",
    "        \n",
    "        path: str\n",
    "            Location where the images are stored\n",
    "            \n",
    "    Returns\n",
    "    -------\n",
    "        \n",
    "        list of str: List of images obtained from the directory\n",
    "        \n",
    "    \"\"\"\n",
    "    from keras_preprocessing.image.utils import _iter_valid_files\n",
    "    from keras_preprocessing.image.directory_iterator import DirectoryIterator\n",
    "    \n",
    "    list_files = list(\n",
    "        _iter_valid_files(path,\n",
    "                          DirectoryIterator.white_list_formats,\n",
    "                          follow_links=False))\n",
    "    list_files = list(map(lambda x: os.path.join(*x), list_files))\n",
    "    return list_files"
   ]
  },
  {
   "cell_type": "code",
   "execution_count": 12,
   "metadata": {
    "ExecuteTime": {
     "end_time": "2019-05-26T12:54:27.148820Z",
     "start_time": "2019-05-26T12:54:27.133693Z"
    }
   },
   "outputs": [
    {
     "data": {
      "text/plain": [
       "['defective_lav', 'defective_ldl', 'non_defective', 'non_defective_bubbles']"
      ]
     },
     "execution_count": 12,
     "metadata": {},
     "output_type": "execute_result"
    }
   ],
   "source": [
    "# Identify the list of available categories/classes\n",
    "classes = []\n",
    "for subdir in sorted(os.listdir(PATH_INPUT_TRAIN)):\n",
    "    if os.path.isdir(os.path.join(PATH_INPUT_TRAIN, subdir)):\n",
    "        classes.append(subdir)\n",
    "classes"
   ]
  },
  {
   "cell_type": "markdown",
   "metadata": {},
   "source": [
    "### Place the list of images into a dataframe"
   ]
  },
  {
   "cell_type": "code",
   "execution_count": 13,
   "metadata": {
    "ExecuteTime": {
     "end_time": "2019-05-26T12:54:30.249322Z",
     "start_time": "2019-05-26T12:54:30.208171Z"
    }
   },
   "outputs": [],
   "source": [
    "list_dataframes = []\n",
    "for category in classes:\n",
    "    path_category = os.path.join(PATH_INPUT_TRAIN, category)\n",
    "    list_images = get_valid_images_in_path(path_category)\n",
    "    list_dataframes.append(\n",
    "        pd.DataFrame({\n",
    "            'path': list_images,\n",
    "            'class': np.repeat(category, len(list_images))\n",
    "        })\n",
    "    )\n",
    "\n",
    "data_images = pd.concat(list_dataframes)\n",
    "data_images['filename'] = data_images['path'].apply(os.path.basename)"
   ]
  },
  {
   "cell_type": "code",
   "execution_count": 14,
   "metadata": {
    "ExecuteTime": {
     "end_time": "2019-05-26T12:54:30.547524Z",
     "start_time": "2019-05-26T12:54:30.524037Z"
    }
   },
   "outputs": [
    {
     "data": {
      "text/html": [
       "<div>\n",
       "<style scoped>\n",
       "    .dataframe tbody tr th:only-of-type {\n",
       "        vertical-align: middle;\n",
       "    }\n",
       "\n",
       "    .dataframe tbody tr th {\n",
       "        vertical-align: top;\n",
       "    }\n",
       "\n",
       "    .dataframe thead th {\n",
       "        text-align: right;\n",
       "    }\n",
       "</style>\n",
       "<table border=\"1\" class=\"dataframe\">\n",
       "  <thead>\n",
       "    <tr style=\"text-align: right;\">\n",
       "      <th></th>\n",
       "      <th>path</th>\n",
       "      <th>class</th>\n",
       "      <th>filename</th>\n",
       "    </tr>\n",
       "  </thead>\n",
       "  <tbody>\n",
       "    <tr>\n",
       "      <th>36</th>\n",
       "      <td>/Users/shyamravikumar/Documents/Workspace/BAI ...</td>\n",
       "      <td>non_defective</td>\n",
       "      <td>nondef_62.JPG</td>\n",
       "    </tr>\n",
       "    <tr>\n",
       "      <th>20</th>\n",
       "      <td>/Users/shyamravikumar/Documents/Workspace/BAI ...</td>\n",
       "      <td>non_defective</td>\n",
       "      <td>nondef_38.JPG</td>\n",
       "    </tr>\n",
       "    <tr>\n",
       "      <th>5</th>\n",
       "      <td>/Users/shyamravikumar/Documents/Workspace/BAI ...</td>\n",
       "      <td>defective_lav</td>\n",
       "      <td>def_lav_p1_7.JPG</td>\n",
       "    </tr>\n",
       "    <tr>\n",
       "      <th>7</th>\n",
       "      <td>/Users/shyamravikumar/Documents/Workspace/BAI ...</td>\n",
       "      <td>defective_lav</td>\n",
       "      <td>def_lav_p2_4.JPG</td>\n",
       "    </tr>\n",
       "    <tr>\n",
       "      <th>10</th>\n",
       "      <td>/Users/shyamravikumar/Documents/Workspace/BAI ...</td>\n",
       "      <td>non_defective_bubbles</td>\n",
       "      <td>nondef_bubbles_24.JPG</td>\n",
       "    </tr>\n",
       "  </tbody>\n",
       "</table>\n",
       "</div>"
      ],
      "text/plain": [
       "                                                 path                  class  \\\n",
       "36  /Users/shyamravikumar/Documents/Workspace/BAI ...          non_defective   \n",
       "20  /Users/shyamravikumar/Documents/Workspace/BAI ...          non_defective   \n",
       "5   /Users/shyamravikumar/Documents/Workspace/BAI ...          defective_lav   \n",
       "7   /Users/shyamravikumar/Documents/Workspace/BAI ...          defective_lav   \n",
       "10  /Users/shyamravikumar/Documents/Workspace/BAI ...  non_defective_bubbles   \n",
       "\n",
       "                 filename  \n",
       "36          nondef_62.JPG  \n",
       "20          nondef_38.JPG  \n",
       "5        def_lav_p1_7.JPG  \n",
       "7        def_lav_p2_4.JPG  \n",
       "10  nondef_bubbles_24.JPG  "
      ]
     },
     "execution_count": 14,
     "metadata": {},
     "output_type": "execute_result"
    }
   ],
   "source": [
    "data_images.sample(5)"
   ]
  },
  {
   "cell_type": "markdown",
   "metadata": {},
   "source": [
    "### Create output directories to store the augmented images"
   ]
  },
  {
   "cell_type": "code",
   "execution_count": 15,
   "metadata": {
    "ExecuteTime": {
     "end_time": "2019-05-26T12:54:33.164570Z",
     "start_time": "2019-05-26T12:54:33.158791Z"
    }
   },
   "outputs": [],
   "source": [
    "# Ensure that the required o/p directories (for each class) exist. If not, they will be created\n",
    "for feature in classes:\n",
    "    folder = os.path.join(PATH_OUTPUT, feature)\n",
    "    if not os.path.exists(folder):\n",
    "        os.mkdir(folder)"
   ]
  },
  {
   "cell_type": "markdown",
   "metadata": {},
   "source": [
    "## Test a few augmentations"
   ]
  },
  {
   "cell_type": "code",
   "execution_count": 16,
   "metadata": {
    "ExecuteTime": {
     "end_time": "2019-05-26T12:54:34.819903Z",
     "start_time": "2019-05-26T12:54:34.772116Z"
    }
   },
   "outputs": [],
   "source": [
    "img_input = imutils.opencv2matplotlib(cv2.imread(data_images.path.iloc[10]))"
   ]
  },
  {
   "cell_type": "code",
   "execution_count": 17,
   "metadata": {
    "ExecuteTime": {
     "end_time": "2019-05-26T12:54:35.776413Z",
     "start_time": "2019-05-26T12:54:35.771512Z"
    }
   },
   "outputs": [],
   "source": [
    "height=12\n",
    "width=16\n",
    "plt.rcParams['figure.figsize'] = (width,height)"
   ]
  },
  {
   "cell_type": "code",
   "execution_count": 20,
   "metadata": {
    "ExecuteTime": {
     "end_time": "2019-05-23T02:31:06.052910Z",
     "start_time": "2019-05-23T02:31:06.047422Z"
    }
   },
   "outputs": [],
   "source": [
    "# plt.imshow(img_input)"
   ]
  },
  {
   "cell_type": "markdown",
   "metadata": {},
   "source": [
    "Just uncomment any one of the below, and then run the next line to view the results!"
   ]
  },
  {
   "cell_type": "code",
   "execution_count": 18,
   "metadata": {
    "ExecuteTime": {
     "end_time": "2019-05-26T12:54:39.254968Z",
     "start_time": "2019-05-26T12:54:39.246338Z"
    }
   },
   "outputs": [],
   "source": [
    "# augmentor = iaa.Affine(rotate=60,mode=\"symmetric\")\n",
    "# augmentor = iaa.Fliplr(1)\n",
    "# augmentor = iaa.Flipud(1)\n",
    "augmentor = iaa.Salt(0.01)\n",
    "# augmentor = iaa.GaussianBlur(sigma=1)\n",
    "# augmentor = iaa.Invert(1)\n",
    "# augmentor = iaa.GammaContrast(1.25)\n",
    "# augmentor = iaa.Multiply(1.2)\n",
    "# augmentor = iaa.Sharpen(alpha=0.2,lightness=1) # Only sharpen\n",
    "# augmentor = iaa.Add(-30) #Adjust brightness\n",
    "## augmentor = iaa.AddToHueAndSaturation((-100,100)) #Adjust Hue and Saturation. Not implemented currently\n",
    "# augmentor = iaa.Sequential([iaa.Flipud(1),iaa.Fliplr(1)]) #Inversion done to make snowflakes more visible"
   ]
  },
  {
   "cell_type": "code",
   "execution_count": 19,
   "metadata": {
    "ExecuteTime": {
     "end_time": "2019-05-26T12:54:40.729772Z",
     "start_time": "2019-05-26T12:54:39.473611Z"
    }
   },
   "outputs": [
    {
     "data": {
      "text/plain": [
       "<matplotlib.image.AxesImage at 0x12327d128>"
      ]
     },
     "execution_count": 19,
     "metadata": {},
     "output_type": "execute_result"
    },
    {
     "data": {
      "text/plain": [
       "<matplotlib.image.AxesImage at 0x12327d4e0>"
      ]
     },
     "execution_count": 19,
     "metadata": {},
     "output_type": "execute_result"
    },
    {
     "data": {
      "image/png": "[encoded data removed]",
      "text/plain": [
       "<Figure size 1152x864 with 2 Axes>"
      ]
     },
     "metadata": {
      "needs_background": "light"
     },
     "output_type": "display_data"
    }
   ],
   "source": [
    "fig,(ax1,ax2) = plt.subplots(ncols=2)\n",
    "ax1.imshow(img_input)\n",
    "ax2.imshow(augmentor.augment_image(img_input))"
   ]
  },
  {
   "cell_type": "markdown",
   "metadata": {},
   "source": [
    "## Define augmentation parameters"
   ]
  },
  {
   "cell_type": "markdown",
   "metadata": {},
   "source": [
    "Create a dictionary of acceptable augmentations"
   ]
  },
  {
   "cell_type": "code",
   "execution_count": 20,
   "metadata": {
    "ExecuteTime": {
     "end_time": "2019-05-26T12:54:52.495141Z",
     "start_time": "2019-05-26T12:54:52.475086Z"
    }
   },
   "outputs": [],
   "source": [
    "acceptable_augmentations = {\n",
    "    'flip_horizontal_on': iaa.Fliplr(1,name='flip_horizontal_on'),\n",
    "    'flip_vertical_on': iaa.Flipud(1,name='flip_vertical_on'),\n",
    "    'rotation_180': iaa.Affine(rotate=180,name='rotation_180'),\n",
    "    'salt_p_0.01': iaa.Salt(0.01,name='salt_p_0.01'),\n",
    "    'blur_gaussian_sigma_1': iaa.GaussianBlur(sigma=1,name='blur_gaussian_sigma_1'),\n",
    "#     'invert_on': iaa.Invert(1,name='invert_on'),\n",
    "    'gamma_contrast_gamma_1.25': iaa.GammaContrast(1.25,name='gamma_contrast_gamma_1.25'),\n",
    "#     'multiply_mul_1.2': iaa.Multiply(1.2,name='multiply_mul_1.2'),\n",
    "    'sharpen_on': iaa.Sharpen(alpha=0.2, lightness=1,name='sharpen_on'),\n",
    "    'snowflakes_on': iaa.Snowflakes(0.029, speed=0.001, flake_size=(0.6, 0.8),name='snowflakes_on')\n",
    "}\n",
    "#Separate set of augmentations for brightness. One of these has to be used in every augmentation\n",
    "# dict([('brightness_%s'%x,'iaa.Add(%s)'%x) for x in range(-60,61,10)])\n",
    "#iaa.Add(0) is included so that images with original brightness are also included in the final list\n",
    "acceptable_augmentations_brightness = {\n",
    "#     'brightness_off': iaa.Add(0,name='brightness_off'), \n",
    "#     'brightness_-60': iaa.Add(-60,name='brightness_-60'),\n",
    "#     'brightness_-50': iaa.Add(-50,name='brightness_-50'),\n",
    "#     'brightness_-40': iaa.Add(-40,name='brightness_-40'),\n",
    "    'brightness_-30': iaa.Add(-30,name='brightness_-30'),\n",
    "#     'brightness_-20': iaa.Add(-20,name='brightness_-20'),\n",
    "#     'brightness_-10': iaa.Add(-10,name='brightness_-10'),\n",
    "#     'brightness_10': iaa.Add(10,name='brightness_10'),\n",
    "#     'brightness_20': iaa.Add(20,name='brightness_20'),\n",
    "    'brightness_30': iaa.Add(30,name='brightness_30'),\n",
    "#     'brightness_40': iaa.Add(40,name='brightness_40'),\n",
    "#     'brightness_50': iaa.Add(50,name='brightness_50'),\n",
    "#     'brightness_60': iaa.Add(60,name='brightness_60')\n",
    "}"
   ]
  },
  {
   "cell_type": "markdown",
   "metadata": {},
   "source": [
    "## Create combinations of all acceptable augmentations"
   ]
  },
  {
   "cell_type": "markdown",
   "metadata": {},
   "source": [
    "Logic: \n",
    "<ol>\n",
    "    <li>Extract all nC1,nC2,nC3,nC4,...nCn combinations from acceptable_augmentations</li>\n",
    "    <li>Take all nC2 combinations from the combination of above results with acceptable brightnesses</li>\n",
    "</ol>"
   ]
  },
  {
   "cell_type": "code",
   "execution_count": 21,
   "metadata": {
    "ExecuteTime": {
     "end_time": "2019-05-26T12:54:55.849404Z",
     "start_time": "2019-05-26T12:54:55.845452Z"
    }
   },
   "outputs": [],
   "source": [
    "from itertools import combinations, product"
   ]
  },
  {
   "cell_type": "code",
   "execution_count": 22,
   "metadata": {
    "ExecuteTime": {
     "end_time": "2019-05-26T12:54:56.223340Z",
     "start_time": "2019-05-26T12:54:56.218842Z"
    }
   },
   "outputs": [],
   "source": [
    "list_augmentations = acceptable_augmentations.keys()\n",
    "list_brightnesses = [(x,) for x in acceptable_augmentations_brightness.keys()]"
   ]
  },
  {
   "cell_type": "code",
   "execution_count": 23,
   "metadata": {
    "ExecuteTime": {
     "end_time": "2019-05-26T12:54:56.495933Z",
     "start_time": "2019-05-26T12:54:56.483677Z"
    }
   },
   "outputs": [],
   "source": [
    "# Create combinations of all augmentations excluding brightness\n",
    "combinations_augmentations_phase_1 = []\n",
    "for i in range(1,2):\n",
    "# for i in range(1,len(list_augmentations)):\n",
    "    combinations_augmentations_phase_1+= combinations(list_augmentations,i)"
   ]
  },
  {
   "cell_type": "code",
   "execution_count": 24,
   "metadata": {
    "ExecuteTime": {
     "end_time": "2019-05-26T12:54:57.936292Z",
     "start_time": "2019-05-26T12:54:57.931960Z"
    }
   },
   "outputs": [],
   "source": [
    "# Create combinations including brightness\n",
    "combinations_augmentations_phase_2 = list(product(combinations_augmentations_phase_1,list_brightnesses))"
   ]
  },
  {
   "cell_type": "code",
   "execution_count": 25,
   "metadata": {
    "ExecuteTime": {
     "end_time": "2019-05-26T12:54:58.375450Z",
     "start_time": "2019-05-26T12:54:58.369207Z"
    }
   },
   "outputs": [
    {
     "name": "stdout",
     "output_type": "stream",
     "text": [
      "There are 16 possible combinations of augmentations for each image\n"
     ]
    }
   ],
   "source": [
    "print(\"There are %s possible combinations of augmentations for each image\"%len(combinations_augmentations_phase_2))"
   ]
  },
  {
   "cell_type": "code",
   "execution_count": 26,
   "metadata": {
    "ExecuteTime": {
     "end_time": "2019-05-26T12:55:02.320023Z",
     "start_time": "2019-05-26T12:55:02.316288Z"
    }
   },
   "outputs": [],
   "source": [
    "from itertools import chain"
   ]
  },
  {
   "cell_type": "markdown",
   "metadata": {},
   "source": [
    "Get a list of all possible augmentations"
   ]
  },
  {
   "cell_type": "code",
   "execution_count": 27,
   "metadata": {
    "ExecuteTime": {
     "end_time": "2019-05-26T12:55:04.890383Z",
     "start_time": "2019-05-26T12:55:04.885938Z"
    }
   },
   "outputs": [],
   "source": [
    "combinations_augmentations=list(map(lambda x:tuple(chain.from_iterable(x)),combinations_augmentations_phase_2))"
   ]
  },
  {
   "cell_type": "code",
   "execution_count": 28,
   "metadata": {
    "ExecuteTime": {
     "end_time": "2019-05-26T12:55:05.297631Z",
     "start_time": "2019-05-26T12:55:05.287655Z"
    }
   },
   "outputs": [
    {
     "data": {
      "text/plain": [
       "[('flip_horizontal_on', 'brightness_-30'),\n",
       " ('flip_horizontal_on', 'brightness_30'),\n",
       " ('flip_vertical_on', 'brightness_-30'),\n",
       " ('flip_vertical_on', 'brightness_30'),\n",
       " ('rotation_180', 'brightness_-30'),\n",
       " ('rotation_180', 'brightness_30'),\n",
       " ('salt_p_0.01', 'brightness_-30'),\n",
       " ('salt_p_0.01', 'brightness_30'),\n",
       " ('blur_gaussian_sigma_1', 'brightness_-30'),\n",
       " ('blur_gaussian_sigma_1', 'brightness_30'),\n",
       " ('gamma_contrast_gamma_1.25', 'brightness_-30'),\n",
       " ('gamma_contrast_gamma_1.25', 'brightness_30'),\n",
       " ('sharpen_on', 'brightness_-30'),\n",
       " ('sharpen_on', 'brightness_30'),\n",
       " ('snowflakes_on', 'brightness_-30'),\n",
       " ('snowflakes_on', 'brightness_30')]"
      ]
     },
     "execution_count": 28,
     "metadata": {},
     "output_type": "execute_result"
    }
   ],
   "source": [
    "combinations_augmentations\n",
    "# combinations_augmentations[500:1000:100] # Print results"
   ]
  },
  {
   "cell_type": "markdown",
   "metadata": {},
   "source": [
    "## Create a dataframe containing all possible augmentations for each image, and sample it"
   ]
  },
  {
   "cell_type": "code",
   "execution_count": 29,
   "metadata": {
    "ExecuteTime": {
     "end_time": "2019-05-26T12:55:21.864263Z",
     "start_time": "2019-05-26T12:55:21.856732Z"
    }
   },
   "outputs": [],
   "source": [
    "#Create a function for cross joining two datasets\n",
    "def cartesian_product_simplified(left, right):\n",
    "    la, lb = len(left), len(right)\n",
    "    ia2, ib2 = np.broadcast_arrays(*np.ogrid[:la,:lb])\n",
    "\n",
    "    return pd.DataFrame(\n",
    "        np.column_stack([left.values[ia2.ravel()], right.values[ib2.ravel()]]))\n"
   ]
  },
  {
   "cell_type": "code",
   "execution_count": 30,
   "metadata": {
    "ExecuteTime": {
     "end_time": "2019-05-26T12:55:22.725161Z",
     "start_time": "2019-05-26T12:55:22.718737Z"
    }
   },
   "outputs": [
    {
     "data": {
      "text/plain": [
       "(89, 3)"
      ]
     },
     "execution_count": 30,
     "metadata": {},
     "output_type": "execute_result"
    }
   ],
   "source": [
    "data_images.shape"
   ]
  },
  {
   "cell_type": "code",
   "execution_count": 31,
   "metadata": {
    "ExecuteTime": {
     "end_time": "2019-05-26T12:55:23.269891Z",
     "start_time": "2019-05-26T12:55:23.254628Z"
    }
   },
   "outputs": [],
   "source": [
    "res = cartesian_product_simplified(data_images,pd.DataFrame({'augmentations':combinations_augmentations}))"
   ]
  },
  {
   "cell_type": "code",
   "execution_count": 32,
   "metadata": {
    "ExecuteTime": {
     "end_time": "2019-05-26T12:55:25.381765Z",
     "start_time": "2019-05-26T12:55:25.376497Z"
    }
   },
   "outputs": [],
   "source": [
    "res.columns=list(data_images.columns)+['augmentations']"
   ]
  },
  {
   "cell_type": "code",
   "execution_count": 33,
   "metadata": {
    "ExecuteTime": {
     "end_time": "2019-05-26T12:55:25.702759Z",
     "start_time": "2019-05-26T12:55:25.695706Z"
    }
   },
   "outputs": [
    {
     "data": {
      "text/plain": [
       "(1424, 4)"
      ]
     },
     "execution_count": 33,
     "metadata": {},
     "output_type": "execute_result"
    }
   ],
   "source": [
    "assert(res.shape[0] == data_images.shape[0] * len(combinations_augmentations))\n",
    "res.shape"
   ]
  },
  {
   "cell_type": "code",
   "execution_count": 34,
   "metadata": {
    "ExecuteTime": {
     "end_time": "2019-05-26T12:55:27.442214Z",
     "start_time": "2019-05-26T12:55:27.418021Z"
    }
   },
   "outputs": [
    {
     "data": {
      "text/html": [
       "<div>\n",
       "<style scoped>\n",
       "    .dataframe tbody tr th:only-of-type {\n",
       "        vertical-align: middle;\n",
       "    }\n",
       "\n",
       "    .dataframe tbody tr th {\n",
       "        vertical-align: top;\n",
       "    }\n",
       "\n",
       "    .dataframe thead th {\n",
       "        text-align: right;\n",
       "    }\n",
       "</style>\n",
       "<table border=\"1\" class=\"dataframe\">\n",
       "  <thead>\n",
       "    <tr style=\"text-align: right;\">\n",
       "      <th></th>\n",
       "      <th>path</th>\n",
       "      <th>class</th>\n",
       "      <th>filename</th>\n",
       "      <th>augmentations</th>\n",
       "    </tr>\n",
       "  </thead>\n",
       "  <tbody>\n",
       "    <tr>\n",
       "      <th>1365</th>\n",
       "      <td>/Users/shyamravikumar/Documents/Workspace/BAI ...</td>\n",
       "      <td>non_defective_bubbles</td>\n",
       "      <td>nondef_bubbles_36.JPG</td>\n",
       "      <td>(rotation_180, brightness_30)</td>\n",
       "    </tr>\n",
       "    <tr>\n",
       "      <th>545</th>\n",
       "      <td>/Users/shyamravikumar/Documents/Workspace/BAI ...</td>\n",
       "      <td>non_defective</td>\n",
       "      <td>nondef_19.JPG</td>\n",
       "      <td>(flip_horizontal_on, brightness_30)</td>\n",
       "    </tr>\n",
       "    <tr>\n",
       "      <th>211</th>\n",
       "      <td>/Users/shyamravikumar/Documents/Workspace/BAI ...</td>\n",
       "      <td>defective_ldl</td>\n",
       "      <td>def_ldl_p1_3.JPG</td>\n",
       "      <td>(flip_vertical_on, brightness_30)</td>\n",
       "    </tr>\n",
       "    <tr>\n",
       "      <th>1134</th>\n",
       "      <td>/Users/shyamravikumar/Documents/Workspace/BAI ...</td>\n",
       "      <td>non_defective_bubbles</td>\n",
       "      <td>nondef_bubbles_12.JPG</td>\n",
       "      <td>(snowflakes_on, brightness_-30)</td>\n",
       "    </tr>\n",
       "    <tr>\n",
       "      <th>339</th>\n",
       "      <td>/Users/shyamravikumar/Documents/Workspace/BAI ...</td>\n",
       "      <td>defective_ldl</td>\n",
       "      <td>def_ldl_p3_1.JPG</td>\n",
       "      <td>(flip_vertical_on, brightness_30)</td>\n",
       "    </tr>\n",
       "    <tr>\n",
       "      <th>1333</th>\n",
       "      <td>/Users/shyamravikumar/Documents/Workspace/BAI ...</td>\n",
       "      <td>non_defective_bubbles</td>\n",
       "      <td>nondef_bubbles_34.JPG</td>\n",
       "      <td>(rotation_180, brightness_30)</td>\n",
       "    </tr>\n",
       "    <tr>\n",
       "      <th>1132</th>\n",
       "      <td>/Users/shyamravikumar/Documents/Workspace/BAI ...</td>\n",
       "      <td>non_defective_bubbles</td>\n",
       "      <td>nondef_bubbles_12.JPG</td>\n",
       "      <td>(sharpen_on, brightness_-30)</td>\n",
       "    </tr>\n",
       "    <tr>\n",
       "      <th>451</th>\n",
       "      <td>/Users/shyamravikumar/Documents/Workspace/BAI ...</td>\n",
       "      <td>non_defective</td>\n",
       "      <td>nondef_12.JPG</td>\n",
       "      <td>(flip_vertical_on, brightness_30)</td>\n",
       "    </tr>\n",
       "    <tr>\n",
       "      <th>588</th>\n",
       "      <td>/Users/shyamravikumar/Documents/Workspace/BAI ...</td>\n",
       "      <td>non_defective</td>\n",
       "      <td>nondef_21.JPG</td>\n",
       "      <td>(sharpen_on, brightness_-30)</td>\n",
       "    </tr>\n",
       "    <tr>\n",
       "      <th>1241</th>\n",
       "      <td>/Users/shyamravikumar/Documents/Workspace/BAI ...</td>\n",
       "      <td>non_defective_bubbles</td>\n",
       "      <td>nondef_bubbles_24.JPG</td>\n",
       "      <td>(blur_gaussian_sigma_1, brightness_30)</td>\n",
       "    </tr>\n",
       "    <tr>\n",
       "      <th>910</th>\n",
       "      <td>/Users/shyamravikumar/Documents/Workspace/BAI ...</td>\n",
       "      <td>non_defective</td>\n",
       "      <td>nondef_50.JPG</td>\n",
       "      <td>(snowflakes_on, brightness_-30)</td>\n",
       "    </tr>\n",
       "    <tr>\n",
       "      <th>328</th>\n",
       "      <td>/Users/shyamravikumar/Documents/Workspace/BAI ...</td>\n",
       "      <td>defective_ldl</td>\n",
       "      <td>def_ldl_p2_8.JPG</td>\n",
       "      <td>(blur_gaussian_sigma_1, brightness_-30)</td>\n",
       "    </tr>\n",
       "    <tr>\n",
       "      <th>548</th>\n",
       "      <td>/Users/shyamravikumar/Documents/Workspace/BAI ...</td>\n",
       "      <td>non_defective</td>\n",
       "      <td>nondef_19.JPG</td>\n",
       "      <td>(rotation_180, brightness_-30)</td>\n",
       "    </tr>\n",
       "    <tr>\n",
       "      <th>775</th>\n",
       "      <td>/Users/shyamravikumar/Documents/Workspace/BAI ...</td>\n",
       "      <td>non_defective</td>\n",
       "      <td>nondef_42.JPG</td>\n",
       "      <td>(salt_p_0.01, brightness_30)</td>\n",
       "    </tr>\n",
       "    <tr>\n",
       "      <th>1024</th>\n",
       "      <td>/Users/shyamravikumar/Documents/Workspace/BAI ...</td>\n",
       "      <td>non_defective</td>\n",
       "      <td>nondef_68.JPG</td>\n",
       "      <td>(flip_horizontal_on, brightness_-30)</td>\n",
       "    </tr>\n",
       "    <tr>\n",
       "      <th>1219</th>\n",
       "      <td>/Users/shyamravikumar/Documents/Workspace/BAI ...</td>\n",
       "      <td>non_defective_bubbles</td>\n",
       "      <td>nondef_bubbles_23.JPG</td>\n",
       "      <td>(flip_vertical_on, brightness_30)</td>\n",
       "    </tr>\n",
       "    <tr>\n",
       "      <th>596</th>\n",
       "      <td>/Users/shyamravikumar/Documents/Workspace/BAI ...</td>\n",
       "      <td>non_defective</td>\n",
       "      <td>nondef_22.JPG</td>\n",
       "      <td>(rotation_180, brightness_-30)</td>\n",
       "    </tr>\n",
       "    <tr>\n",
       "      <th>499</th>\n",
       "      <td>/Users/shyamravikumar/Documents/Workspace/BAI ...</td>\n",
       "      <td>non_defective</td>\n",
       "      <td>nondef_15.JPG</td>\n",
       "      <td>(flip_vertical_on, brightness_30)</td>\n",
       "    </tr>\n",
       "    <tr>\n",
       "      <th>934</th>\n",
       "      <td>/Users/shyamravikumar/Documents/Workspace/BAI ...</td>\n",
       "      <td>non_defective</td>\n",
       "      <td>nondef_56.JPG</td>\n",
       "      <td>(salt_p_0.01, brightness_-30)</td>\n",
       "    </tr>\n",
       "    <tr>\n",
       "      <th>1303</th>\n",
       "      <td>/Users/shyamravikumar/Documents/Workspace/BAI ...</td>\n",
       "      <td>non_defective_bubbles</td>\n",
       "      <td>nondef_bubbles_31.JPG</td>\n",
       "      <td>(salt_p_0.01, brightness_30)</td>\n",
       "    </tr>\n",
       "  </tbody>\n",
       "</table>\n",
       "</div>"
      ],
      "text/plain": [
       "                                                   path  \\\n",
       "1365  /Users/shyamravikumar/Documents/Workspace/BAI ...   \n",
       "545   /Users/shyamravikumar/Documents/Workspace/BAI ...   \n",
       "211   /Users/shyamravikumar/Documents/Workspace/BAI ...   \n",
       "1134  /Users/shyamravikumar/Documents/Workspace/BAI ...   \n",
       "339   /Users/shyamravikumar/Documents/Workspace/BAI ...   \n",
       "1333  /Users/shyamravikumar/Documents/Workspace/BAI ...   \n",
       "1132  /Users/shyamravikumar/Documents/Workspace/BAI ...   \n",
       "451   /Users/shyamravikumar/Documents/Workspace/BAI ...   \n",
       "588   /Users/shyamravikumar/Documents/Workspace/BAI ...   \n",
       "1241  /Users/shyamravikumar/Documents/Workspace/BAI ...   \n",
       "910   /Users/shyamravikumar/Documents/Workspace/BAI ...   \n",
       "328   /Users/shyamravikumar/Documents/Workspace/BAI ...   \n",
       "548   /Users/shyamravikumar/Documents/Workspace/BAI ...   \n",
       "775   /Users/shyamravikumar/Documents/Workspace/BAI ...   \n",
       "1024  /Users/shyamravikumar/Documents/Workspace/BAI ...   \n",
       "1219  /Users/shyamravikumar/Documents/Workspace/BAI ...   \n",
       "596   /Users/shyamravikumar/Documents/Workspace/BAI ...   \n",
       "499   /Users/shyamravikumar/Documents/Workspace/BAI ...   \n",
       "934   /Users/shyamravikumar/Documents/Workspace/BAI ...   \n",
       "1303  /Users/shyamravikumar/Documents/Workspace/BAI ...   \n",
       "\n",
       "                      class               filename  \\\n",
       "1365  non_defective_bubbles  nondef_bubbles_36.JPG   \n",
       "545           non_defective          nondef_19.JPG   \n",
       "211           defective_ldl       def_ldl_p1_3.JPG   \n",
       "1134  non_defective_bubbles  nondef_bubbles_12.JPG   \n",
       "339           defective_ldl       def_ldl_p3_1.JPG   \n",
       "1333  non_defective_bubbles  nondef_bubbles_34.JPG   \n",
       "1132  non_defective_bubbles  nondef_bubbles_12.JPG   \n",
       "451           non_defective          nondef_12.JPG   \n",
       "588           non_defective          nondef_21.JPG   \n",
       "1241  non_defective_bubbles  nondef_bubbles_24.JPG   \n",
       "910           non_defective          nondef_50.JPG   \n",
       "328           defective_ldl       def_ldl_p2_8.JPG   \n",
       "548           non_defective          nondef_19.JPG   \n",
       "775           non_defective          nondef_42.JPG   \n",
       "1024          non_defective          nondef_68.JPG   \n",
       "1219  non_defective_bubbles  nondef_bubbles_23.JPG   \n",
       "596           non_defective          nondef_22.JPG   \n",
       "499           non_defective          nondef_15.JPG   \n",
       "934           non_defective          nondef_56.JPG   \n",
       "1303  non_defective_bubbles  nondef_bubbles_31.JPG   \n",
       "\n",
       "                                augmentations  \n",
       "1365            (rotation_180, brightness_30)  \n",
       "545       (flip_horizontal_on, brightness_30)  \n",
       "211         (flip_vertical_on, brightness_30)  \n",
       "1134          (snowflakes_on, brightness_-30)  \n",
       "339         (flip_vertical_on, brightness_30)  \n",
       "1333            (rotation_180, brightness_30)  \n",
       "1132             (sharpen_on, brightness_-30)  \n",
       "451         (flip_vertical_on, brightness_30)  \n",
       "588              (sharpen_on, brightness_-30)  \n",
       "1241   (blur_gaussian_sigma_1, brightness_30)  \n",
       "910           (snowflakes_on, brightness_-30)  \n",
       "328   (blur_gaussian_sigma_1, brightness_-30)  \n",
       "548            (rotation_180, brightness_-30)  \n",
       "775              (salt_p_0.01, brightness_30)  \n",
       "1024     (flip_horizontal_on, brightness_-30)  \n",
       "1219        (flip_vertical_on, brightness_30)  \n",
       "596            (rotation_180, brightness_-30)  \n",
       "499         (flip_vertical_on, brightness_30)  \n",
       "934             (salt_p_0.01, brightness_-30)  \n",
       "1303             (salt_p_0.01, brightness_30)  "
      ]
     },
     "execution_count": 34,
     "metadata": {},
     "output_type": "execute_result"
    }
   ],
   "source": [
    "res.sample(20,random_state=SEED)"
   ]
  },
  {
   "cell_type": "code",
   "execution_count": 35,
   "metadata": {
    "ExecuteTime": {
     "end_time": "2019-05-26T12:55:38.236744Z",
     "start_time": "2019-05-26T12:55:38.233547Z"
    }
   },
   "outputs": [],
   "source": [
    "# res.to_pickle(os.path.join(PATH_OUTPUT,\"list_dataset_augmentations.pickle\"))\n",
    "# res=pd.read_pickle(os.path.join(PATH_OUTPUT,\"list_dataset_augmentations.pickle\"))"
   ]
  },
  {
   "cell_type": "code",
   "execution_count": 36,
   "metadata": {
    "ExecuteTime": {
     "end_time": "2019-05-26T12:55:39.324479Z",
     "start_time": "2019-05-26T12:55:39.319847Z"
    }
   },
   "outputs": [],
   "source": [
    "data_sampled = res.copy()"
   ]
  },
  {
   "cell_type": "markdown",
   "metadata": {},
   "source": [
    "Add a row number for each row in the dataframe, and a column to identify the augmentation"
   ]
  },
  {
   "cell_type": "code",
   "execution_count": 37,
   "metadata": {
    "ExecuteTime": {
     "end_time": "2019-05-26T12:55:41.339692Z",
     "start_time": "2019-05-26T12:55:41.299729Z"
    }
   },
   "outputs": [],
   "source": [
    "data_sampled.reset_index(inplace=True,drop=True)\n",
    "data_sampled = data_sampled.reset_index().rename(columns={'index':'row_num'})\n",
    "data_sampled['augmentation_identifier'] = 'aug_'+data_sampled['row_num'].astype('str')+'.jpg'"
   ]
  },
  {
   "cell_type": "markdown",
   "metadata": {},
   "source": [
    "Add an output path for the augmented images"
   ]
  },
  {
   "cell_type": "code",
   "execution_count": 38,
   "metadata": {
    "ExecuteTime": {
     "end_time": "2019-05-26T12:55:45.399127Z",
     "start_time": "2019-05-26T12:55:45.330984Z"
    }
   },
   "outputs": [],
   "source": [
    "data_sampled['path_output'] = data_sampled.apply(lambda x: os.path.join(\n",
    "    PATH_OUTPUT, x['class'], x['augmentation_identifier']),\n",
    "                                                 axis=1)"
   ]
  },
  {
   "cell_type": "code",
   "execution_count": 39,
   "metadata": {
    "ExecuteTime": {
     "end_time": "2019-05-26T12:55:45.912648Z",
     "start_time": "2019-05-26T12:55:45.880646Z"
    }
   },
   "outputs": [
    {
     "name": "stdout",
     "output_type": "stream",
     "text": [
      "(1424, 7)\n"
     ]
    },
    {
     "data": {
      "text/html": [
       "<div>\n",
       "<style scoped>\n",
       "    .dataframe tbody tr th:only-of-type {\n",
       "        vertical-align: middle;\n",
       "    }\n",
       "\n",
       "    .dataframe tbody tr th {\n",
       "        vertical-align: top;\n",
       "    }\n",
       "\n",
       "    .dataframe thead th {\n",
       "        text-align: right;\n",
       "    }\n",
       "</style>\n",
       "<table border=\"1\" class=\"dataframe\">\n",
       "  <thead>\n",
       "    <tr style=\"text-align: right;\">\n",
       "      <th></th>\n",
       "      <th>row_num</th>\n",
       "      <th>path</th>\n",
       "      <th>class</th>\n",
       "      <th>filename</th>\n",
       "      <th>augmentations</th>\n",
       "      <th>augmentation_identifier</th>\n",
       "      <th>path_output</th>\n",
       "    </tr>\n",
       "  </thead>\n",
       "  <tbody>\n",
       "    <tr>\n",
       "      <th>375</th>\n",
       "      <td>375</td>\n",
       "      <td>/Users/shyamravikumar/Documents/Workspace/BAI ...</td>\n",
       "      <td>defective_ldl</td>\n",
       "      <td>def_ldl_p3_4.JPG</td>\n",
       "      <td>(salt_p_0.01, brightness_30)</td>\n",
       "      <td>aug_375.jpg</td>\n",
       "      <td>/Users/shyamravikumar/Documents/Workspace/BAI ...</td>\n",
       "    </tr>\n",
       "    <tr>\n",
       "      <th>1358</th>\n",
       "      <td>1358</td>\n",
       "      <td>/Users/shyamravikumar/Documents/Workspace/BAI ...</td>\n",
       "      <td>non_defective_bubbles</td>\n",
       "      <td>nondef_bubbles_35.JPG</td>\n",
       "      <td>(snowflakes_on, brightness_-30)</td>\n",
       "      <td>aug_1358.jpg</td>\n",
       "      <td>/Users/shyamravikumar/Documents/Workspace/BAI ...</td>\n",
       "    </tr>\n",
       "    <tr>\n",
       "      <th>288</th>\n",
       "      <td>288</td>\n",
       "      <td>/Users/shyamravikumar/Documents/Workspace/BAI ...</td>\n",
       "      <td>defective_ldl</td>\n",
       "      <td>def_ldl_p2_4.JPG</td>\n",
       "      <td>(flip_horizontal_on, brightness_-30)</td>\n",
       "      <td>aug_288.jpg</td>\n",
       "      <td>/Users/shyamravikumar/Documents/Workspace/BAI ...</td>\n",
       "    </tr>\n",
       "    <tr>\n",
       "      <th>1184</th>\n",
       "      <td>1184</td>\n",
       "      <td>/Users/shyamravikumar/Documents/Workspace/BAI ...</td>\n",
       "      <td>non_defective_bubbles</td>\n",
       "      <td>nondef_bubbles_20.JPG</td>\n",
       "      <td>(flip_horizontal_on, brightness_-30)</td>\n",
       "      <td>aug_1184.jpg</td>\n",
       "      <td>/Users/shyamravikumar/Documents/Workspace/BAI ...</td>\n",
       "    </tr>\n",
       "    <tr>\n",
       "      <th>15</th>\n",
       "      <td>15</td>\n",
       "      <td>/Users/shyamravikumar/Documents/Workspace/BAI ...</td>\n",
       "      <td>defective_lav</td>\n",
       "      <td>def_lav_p1_1.JPG</td>\n",
       "      <td>(snowflakes_on, brightness_30)</td>\n",
       "      <td>aug_15.jpg</td>\n",
       "      <td>/Users/shyamravikumar/Documents/Workspace/BAI ...</td>\n",
       "    </tr>\n",
       "    <tr>\n",
       "      <th>1166</th>\n",
       "      <td>1166</td>\n",
       "      <td>/Users/shyamravikumar/Documents/Workspace/BAI ...</td>\n",
       "      <td>non_defective_bubbles</td>\n",
       "      <td>nondef_bubbles_15.JPG</td>\n",
       "      <td>(snowflakes_on, brightness_-30)</td>\n",
       "      <td>aug_1166.jpg</td>\n",
       "      <td>/Users/shyamravikumar/Documents/Workspace/BAI ...</td>\n",
       "    </tr>\n",
       "    <tr>\n",
       "      <th>689</th>\n",
       "      <td>689</td>\n",
       "      <td>/Users/shyamravikumar/Documents/Workspace/BAI ...</td>\n",
       "      <td>non_defective</td>\n",
       "      <td>nondef_32.JPG</td>\n",
       "      <td>(flip_horizontal_on, brightness_30)</td>\n",
       "      <td>aug_689.jpg</td>\n",
       "      <td>/Users/shyamravikumar/Documents/Workspace/BAI ...</td>\n",
       "    </tr>\n",
       "    <tr>\n",
       "      <th>1332</th>\n",
       "      <td>1332</td>\n",
       "      <td>/Users/shyamravikumar/Documents/Workspace/BAI ...</td>\n",
       "      <td>non_defective_bubbles</td>\n",
       "      <td>nondef_bubbles_34.JPG</td>\n",
       "      <td>(rotation_180, brightness_-30)</td>\n",
       "      <td>aug_1332.jpg</td>\n",
       "      <td>/Users/shyamravikumar/Documents/Workspace/BAI ...</td>\n",
       "    </tr>\n",
       "    <tr>\n",
       "      <th>470</th>\n",
       "      <td>470</td>\n",
       "      <td>/Users/shyamravikumar/Documents/Workspace/BAI ...</td>\n",
       "      <td>non_defective</td>\n",
       "      <td>nondef_13.JPG</td>\n",
       "      <td>(salt_p_0.01, brightness_-30)</td>\n",
       "      <td>aug_470.jpg</td>\n",
       "      <td>/Users/shyamravikumar/Documents/Workspace/BAI ...</td>\n",
       "    </tr>\n",
       "    <tr>\n",
       "      <th>1262</th>\n",
       "      <td>1262</td>\n",
       "      <td>/Users/shyamravikumar/Documents/Workspace/BAI ...</td>\n",
       "      <td>non_defective_bubbles</td>\n",
       "      <td>nondef_bubbles_26.JPG</td>\n",
       "      <td>(snowflakes_on, brightness_-30)</td>\n",
       "      <td>aug_1262.jpg</td>\n",
       "      <td>/Users/shyamravikumar/Documents/Workspace/BAI ...</td>\n",
       "    </tr>\n",
       "  </tbody>\n",
       "</table>\n",
       "</div>"
      ],
      "text/plain": [
       "      row_num                                               path  \\\n",
       "375       375  /Users/shyamravikumar/Documents/Workspace/BAI ...   \n",
       "1358     1358  /Users/shyamravikumar/Documents/Workspace/BAI ...   \n",
       "288       288  /Users/shyamravikumar/Documents/Workspace/BAI ...   \n",
       "1184     1184  /Users/shyamravikumar/Documents/Workspace/BAI ...   \n",
       "15         15  /Users/shyamravikumar/Documents/Workspace/BAI ...   \n",
       "1166     1166  /Users/shyamravikumar/Documents/Workspace/BAI ...   \n",
       "689       689  /Users/shyamravikumar/Documents/Workspace/BAI ...   \n",
       "1332     1332  /Users/shyamravikumar/Documents/Workspace/BAI ...   \n",
       "470       470  /Users/shyamravikumar/Documents/Workspace/BAI ...   \n",
       "1262     1262  /Users/shyamravikumar/Documents/Workspace/BAI ...   \n",
       "\n",
       "                      class               filename  \\\n",
       "375           defective_ldl       def_ldl_p3_4.JPG   \n",
       "1358  non_defective_bubbles  nondef_bubbles_35.JPG   \n",
       "288           defective_ldl       def_ldl_p2_4.JPG   \n",
       "1184  non_defective_bubbles  nondef_bubbles_20.JPG   \n",
       "15            defective_lav       def_lav_p1_1.JPG   \n",
       "1166  non_defective_bubbles  nondef_bubbles_15.JPG   \n",
       "689           non_defective          nondef_32.JPG   \n",
       "1332  non_defective_bubbles  nondef_bubbles_34.JPG   \n",
       "470           non_defective          nondef_13.JPG   \n",
       "1262  non_defective_bubbles  nondef_bubbles_26.JPG   \n",
       "\n",
       "                             augmentations augmentation_identifier  \\\n",
       "375           (salt_p_0.01, brightness_30)             aug_375.jpg   \n",
       "1358       (snowflakes_on, brightness_-30)            aug_1358.jpg   \n",
       "288   (flip_horizontal_on, brightness_-30)             aug_288.jpg   \n",
       "1184  (flip_horizontal_on, brightness_-30)            aug_1184.jpg   \n",
       "15          (snowflakes_on, brightness_30)              aug_15.jpg   \n",
       "1166       (snowflakes_on, brightness_-30)            aug_1166.jpg   \n",
       "689    (flip_horizontal_on, brightness_30)             aug_689.jpg   \n",
       "1332        (rotation_180, brightness_-30)            aug_1332.jpg   \n",
       "470          (salt_p_0.01, brightness_-30)             aug_470.jpg   \n",
       "1262       (snowflakes_on, brightness_-30)            aug_1262.jpg   \n",
       "\n",
       "                                            path_output  \n",
       "375   /Users/shyamravikumar/Documents/Workspace/BAI ...  \n",
       "1358  /Users/shyamravikumar/Documents/Workspace/BAI ...  \n",
       "288   /Users/shyamravikumar/Documents/Workspace/BAI ...  \n",
       "1184  /Users/shyamravikumar/Documents/Workspace/BAI ...  \n",
       "15    /Users/shyamravikumar/Documents/Workspace/BAI ...  \n",
       "1166  /Users/shyamravikumar/Documents/Workspace/BAI ...  \n",
       "689   /Users/shyamravikumar/Documents/Workspace/BAI ...  \n",
       "1332  /Users/shyamravikumar/Documents/Workspace/BAI ...  \n",
       "470   /Users/shyamravikumar/Documents/Workspace/BAI ...  \n",
       "1262  /Users/shyamravikumar/Documents/Workspace/BAI ...  "
      ]
     },
     "execution_count": 39,
     "metadata": {},
     "output_type": "execute_result"
    }
   ],
   "source": [
    "print(data_sampled.shape)\n",
    "data_sampled.sample(10)"
   ]
  },
  {
   "cell_type": "markdown",
   "metadata": {},
   "source": [
    "## Run Augmentations"
   ]
  },
  {
   "cell_type": "markdown",
   "metadata": {
    "ExecuteTime": {
     "end_time": "2019-05-08T04:50:02.512515Z",
     "start_time": "2019-05-08T04:50:02.507191Z"
    }
   },
   "source": [
    "### Create a list of all augmentations"
   ]
  },
  {
   "cell_type": "markdown",
   "metadata": {},
   "source": [
    "Sample code for reference"
   ]
  },
  {
   "cell_type": "code",
   "execution_count": 40,
   "metadata": {
    "ExecuteTime": {
     "end_time": "2019-05-26T12:55:48.836223Z",
     "start_time": "2019-05-26T12:55:48.831539Z"
    }
   },
   "outputs": [],
   "source": [
    "\n",
    "# images = np.random.randint(0, 255, (16, 128, 128, 3), dtype=np.uint8)\n",
    "# seq = iaa.Sequential([iaa.Fliplr(0.5), iaa.GaussianBlur((0, 3.0))])\n",
    "\n",
    "# # Show an image with 8*8 augmented versions of image 0 and 8*8 augmented\n",
    "# # versions of image 1. Identical augmentations will be applied to\n",
    "# # image 0 and 1.\n",
    "# seq.show_grid([images[0], images[1]], cols=2, rows=2)"
   ]
  },
  {
   "cell_type": "markdown",
   "metadata": {},
   "source": [
    "### Create a function that will run the augmentations for each image"
   ]
  },
  {
   "cell_type": "markdown",
   "metadata": {},
   "source": [
    "Create a function to create hooks (i.e., only certain augmentations required by each sample will be run)"
   ]
  },
  {
   "cell_type": "code",
   "execution_count": 41,
   "metadata": {
    "ExecuteTime": {
     "end_time": "2019-05-26T12:55:51.221670Z",
     "start_time": "2019-05-26T12:55:51.210749Z"
    }
   },
   "outputs": [],
   "source": [
    "# Create a consolidated dictionary containing definitions for all augmentations\n",
    "dict_augmentations = acceptable_augmentations_brightness.copy()\n",
    "for key,val in acceptable_augmentations.items():\n",
    "    dict_augmentations[key]=val\n",
    "\n",
    "\n",
    "def read_image(path):\n",
    "    # Read an image from a path, and return the results as an array\n",
    "    # Currently, the color scheme is not changed from BGR to RGB using the following line, since we are not playing with hue anywhere\n",
    "    # return imutils.opencv2matplotlib(cv2.imread(path))\n",
    "    return cv2.imread(path)\n",
    "\n",
    "def get_augmentor(augmentation_labels):\n",
    "    # Create an augmentor that would perform a specific set of augmentations\n",
    "    temp=[dict_augmentations[label] for label in augmentation_labels]\n",
    "    return iaa.Sequential(temp).to_deterministic()\n",
    "\n",
    "def augment_and_save_image(row,flag_return_image=False):\n",
    "    augmentor = get_augmentor(row['augmentations'])\n",
    "    aug_img = augmentor.augment_image(read_image(row['path']))\n",
    "    \n",
    "    # Store the save the augmented images\n",
    "    cv2.imwrite(row['path_output'],aug_img)\n",
    "    if flag_return_image:\n",
    "        return aug_img"
   ]
  },
  {
   "cell_type": "markdown",
   "metadata": {},
   "source": [
    "Test run the functions created"
   ]
  },
  {
   "cell_type": "code",
   "execution_count": 42,
   "metadata": {
    "ExecuteTime": {
     "end_time": "2019-05-26T12:56:01.748528Z",
     "start_time": "2019-05-26T12:56:01.745123Z"
    }
   },
   "outputs": [],
   "source": [
    "# row = data_sampled.iloc[20]\n",
    "# print(row['augmentations'])\n",
    "\n",
    "# augmented_image = augment_and_save_image(row,flag_return_image=True)\n",
    "\n",
    "# fig,(ax1,ax2) = plt.subplots(ncols=2)\n",
    "# ax1.imshow(read_image(row['path']))\n",
    "# ax2.imshow(augmented_image)\n",
    "\n",
    "# plt.imshow(augment_and_save_image(row))"
   ]
  },
  {
   "cell_type": "markdown",
   "metadata": {},
   "source": [
    "### Run the function using an apply function"
   ]
  },
  {
   "cell_type": "code",
   "execution_count": 43,
   "metadata": {
    "ExecuteTime": {
     "end_time": "2019-05-26T12:56:05.095772Z",
     "start_time": "2019-05-26T12:56:05.055337Z"
    }
   },
   "outputs": [],
   "source": [
    "# Export the sample data & augmentations applied, so it can be retrieved later when required\n",
    "data_sampled.to_csv(PATH_MAPPING_FILES,index=False)"
   ]
  },
  {
   "cell_type": "code",
   "execution_count": 44,
   "metadata": {
    "ExecuteTime": {
     "end_time": "2019-05-26T12:56:06.352588Z",
     "start_time": "2019-05-26T12:56:06.327300Z"
    }
   },
   "outputs": [],
   "source": [
    "# Can simply use the apply function. I'm using tqdm to monitor progress as well\n",
    "from tqdm import tqdm\n",
    "tqdm.pandas()"
   ]
  },
  {
   "cell_type": "code",
   "execution_count": 45,
   "metadata": {
    "ExecuteTime": {
     "end_time": "2019-05-26T12:57:52.052846Z",
     "start_time": "2019-05-26T12:56:41.110941Z"
    }
   },
   "outputs": [
    {
     "name": "stderr",
     "output_type": "stream",
     "text": [
      "100%|██████████| 1424/1424 [01:10<00:00, 20.08it/s]\n"
     ]
    },
    {
     "data": {
      "text/plain": [
       "array([None], dtype=object)"
      ]
     },
     "execution_count": 45,
     "metadata": {},
     "output_type": "execute_result"
    },
    {
     "name": "stdout",
     "output_type": "stream",
     "text": [
      "Augmentations have been created\n"
     ]
    }
   ],
   "source": [
    "temp = data_sampled.progress_apply(augment_and_save_image,axis=1)\n",
    "temp.unique()\n",
    "print(\"Augmentations have been created\")"
   ]
  },
  {
   "cell_type": "markdown",
   "metadata": {},
   "source": [
    "## Callouts"
   ]
  },
  {
   "cell_type": "markdown",
   "metadata": {},
   "source": [
    "Note: To create model input files, some manual work has to be done post this stage:\n",
    "<ol>\n",
    "    <li>Create a new folder to store model input images</li>\n",
    "    <li>Move all the images from train_test_split into a folder for train images inside the path from the previous bullet</li>\n",
    "    <li>Move augmented images into their respective folders inside the augmented folders</li>\n",
    "</ol>"
   ]
  },
  {
   "cell_type": "markdown",
   "metadata": {},
   "source": [
    "This code will do the same task"
   ]
  },
  {
   "cell_type": "code",
   "execution_count": 71,
   "metadata": {
    "ExecuteTime": {
     "end_time": "2019-05-26T13:22:03.298061Z",
     "start_time": "2019-05-26T13:22:03.294314Z"
    }
   },
   "outputs": [],
   "source": [
    "from glob import glob\n",
    "import shutil"
   ]
  },
  {
   "cell_type": "code",
   "execution_count": 46,
   "metadata": {
    "ExecuteTime": {
     "end_time": "2019-05-26T13:02:31.362283Z",
     "start_time": "2019-05-26T13:02:31.338083Z"
    }
   },
   "outputs": [],
   "source": [
    "# Path where the train/test folders are located\n",
    "PATH_TRAIN_SPLIT = r'/Users/shyamravikumar/Documents/Workspace/BAI - Project/Input Files/V4/4. Train Test Split - Merged Categories'\n",
    "# Path where the augmented images for training dataset are located\n",
    "PATH_AUGMENTATIONS_TRAIN = r'/Users/shyamravikumar/Documents/Workspace/BAI - Project/Input Files/V4/5. Augmented Images'\n",
    "# Path where the final results need to be placed\n",
    "PATH_OUTPUT = r'/Users/shyamravikumar/Documents/Workspace/BAI - Project/Input Files/V4/6. Model Inputs'"
   ]
  },
  {
   "cell_type": "code",
   "execution_count": 53,
   "metadata": {
    "ExecuteTime": {
     "end_time": "2019-05-26T13:07:25.332613Z",
     "start_time": "2019-05-26T13:07:25.327874Z"
    }
   },
   "outputs": [],
   "source": [
    "path_train = os.path.join(PATH_TRAIN_SPLIT,'train')\n",
    "path_test = os.path.join(PATH_TRAIN_SPLIT,'test')"
   ]
  },
  {
   "cell_type": "markdown",
   "metadata": {},
   "source": [
    "Ensure the paths are valid"
   ]
  },
  {
   "cell_type": "code",
   "execution_count": 54,
   "metadata": {
    "ExecuteTime": {
     "end_time": "2019-05-26T13:07:37.360974Z",
     "start_time": "2019-05-26T13:07:37.355196Z"
    }
   },
   "outputs": [],
   "source": [
    "check_exists_path = lambda x: os.path.exists(x)\n",
    "assert(check_exists_path(PATH_TRAIN_SPLIT))\n",
    "assert(check_exists_path(path_train))\n",
    "assert(check_exists_path(path_test))\n",
    "assert(check_exists_path(PATH_AUGMENTATIONS_TRAIN))\n",
    "assert(check_exists_path(PATH_OUTPUT))"
   ]
  },
  {
   "cell_type": "markdown",
   "metadata": {},
   "source": [
    "Identify all the classes"
   ]
  },
  {
   "cell_type": "code",
   "execution_count": 60,
   "metadata": {
    "ExecuteTime": {
     "end_time": "2019-05-26T13:08:53.012132Z",
     "start_time": "2019-05-26T13:08:53.006872Z"
    }
   },
   "outputs": [],
   "source": [
    "# Helper function to get all the classes in a directory\n",
    "def get_classes_in_dir(path_dir):\n",
    "    classes = []\n",
    "    for subdir in sorted(os.listdir(path_dir)):\n",
    "        if os.path.isdir(os.path.join(path_dir, subdir)):\n",
    "            classes.append(subdir)\n",
    "    return classes"
   ]
  },
  {
   "cell_type": "code",
   "execution_count": 61,
   "metadata": {
    "ExecuteTime": {
     "end_time": "2019-05-26T13:08:53.540585Z",
     "start_time": "2019-05-26T13:08:53.533479Z"
    }
   },
   "outputs": [
    {
     "data": {
      "text/plain": [
       "['defective_lav', 'defective_ldl', 'non_defective', 'non_defective_bubbles']"
      ]
     },
     "execution_count": 61,
     "metadata": {},
     "output_type": "execute_result"
    }
   ],
   "source": [
    "dir_classes = get_classes_in_dir(path_train)\n",
    "dir_classes"
   ]
  },
  {
   "cell_type": "code",
   "execution_count": 62,
   "metadata": {
    "ExecuteTime": {
     "end_time": "2019-05-26T13:09:22.226074Z",
     "start_time": "2019-05-26T13:09:22.214106Z"
    }
   },
   "outputs": [],
   "source": [
    "# Ensure the same categories are present in the augmentation folder\n",
    "assert(dir_classes == get_classes_in_dir(PATH_AUGMENTATIONS_TRAIN))"
   ]
  },
  {
   "cell_type": "code",
   "execution_count": 76,
   "metadata": {
    "ExecuteTime": {
     "end_time": "2019-05-26T13:26:04.408099Z",
     "start_time": "2019-05-26T13:26:04.397671Z"
    }
   },
   "outputs": [],
   "source": [
    "# Create folders for train and test images in the output directory\n",
    "for model_input_type in ['train','test']:\n",
    "    folder = os.path.join(PATH_OUTPUT, model_input_type)\n",
    "    if not os.path.exists(folder):\n",
    "        os.mkdir(folder)\n",
    "    \n",
    "# Ensure that the required o/p directories (for each class) exist in train & test directory. If not, they will be created\n",
    "for feature in dir_classes:\n",
    "    folder_train = os.path.join(PATH_OUTPUT, 'train',feature)\n",
    "    if not os.path.exists(folder_train):\n",
    "        os.mkdir(folder_train)\n",
    "    \n",
    "    folder_test = os.path.join(PATH_OUTPUT, 'test',feature)\n",
    "    if not os.path.exists(folder_test):\n",
    "        os.mkdir(folder_test)"
   ]
  },
  {
   "cell_type": "code",
   "execution_count": 78,
   "metadata": {
    "ExecuteTime": {
     "end_time": "2019-05-26T13:27:00.432795Z",
     "start_time": "2019-05-26T13:27:00.423260Z"
    }
   },
   "outputs": [],
   "source": [
    "# Helper function to copy from path A to path B\n",
    "def copy_to_path(a,b):\n",
    "    shutil.copyfile(a,b)"
   ]
  },
  {
   "cell_type": "markdown",
   "metadata": {},
   "source": [
    "Copy images from Augmented images directory to the output test folder"
   ]
  },
  {
   "cell_type": "code",
   "execution_count": 79,
   "metadata": {
    "ExecuteTime": {
     "end_time": "2019-05-26T13:27:49.003768Z",
     "start_time": "2019-05-26T13:27:41.273364Z"
    }
   },
   "outputs": [],
   "source": [
    "# Copy Augmented images\n",
    "for feature in dir_classes:\n",
    "    for image_path in glob(os.path.join(PATH_AUGMENTATIONS_TRAIN,feature,'*')):\n",
    "        path_output = os.path.join(PATH_OUTPUT, 'train',feature,os.path.basename(image_path))\n",
    "        copy_to_path(image_path,path_output)"
   ]
  },
  {
   "cell_type": "markdown",
   "metadata": {},
   "source": [
    "Copy images from the train_test_split directory"
   ]
  },
  {
   "cell_type": "code",
   "execution_count": 80,
   "metadata": {
    "ExecuteTime": {
     "end_time": "2019-05-26T13:28:55.048617Z",
     "start_time": "2019-05-26T13:28:55.044783Z"
    }
   },
   "outputs": [],
   "source": [
    "# Copy Train images\n",
    "for feature in dir_classes:\n",
    "    for image_path in glob(os.path.join(path_train,feature,'*')):\n",
    "        path_output = os.path.join(PATH_OUTPUT, 'train',feature,os.path.basename(image_path))\n",
    "        copy_to_path(image_path,path_output)\n",
    "# Copy Test images\n",
    "for feature in dir_classes:\n",
    "    for image_path in glob(os.path.join(path_test,feature,'*')):\n",
    "        path_output = os.path.join(PATH_OUTPUT, 'test',feature,os.path.basename(image_path))\n",
    "        copy_to_path(image_path,path_output)"
   ]
  },
  {
   "cell_type": "markdown",
   "metadata": {},
   "source": [
    "There will always be some file size differences because of minor system storage methods. Ensur ethat the difference between inputs and outputs is lesser than a threshold"
   ]
  },
  {
   "cell_type": "code",
   "execution_count": 103,
   "metadata": {
    "ExecuteTime": {
     "end_time": "2019-05-26T13:37:27.414692Z",
     "start_time": "2019-05-26T13:37:27.359848Z"
    }
   },
   "outputs": [],
   "source": [
    "\n",
    "THRESHOLD = 1 #in MBs\n",
    "\n",
    "# Get folder size\n",
    "def get_size_of(path):\n",
    "    return sum(\n",
    "        os.path.getsize(os.path.join(dirpath, filename))\n",
    "        for dirpath, dirnames, filenames in os.walk(path)\n",
    "        for filename in filenames) / (1024*1024)\n",
    "\n",
    "# Check if the difference in folder sizes is < Threshold\n",
    "assert(abs(get_size_of(PATH_OUTPUT)  - get_size_of(PATH_TRAIN_SPLIT) - get_size_of(PATH_AUGMENTATIONS_TRAIN))<=THRESHOLD)"
   ]
  }
 ],
 "metadata": {
  "kernelspec": {
   "display_name": "Python (BAI)",
   "language": "python",
   "name": "bai_project_py"
  },
  "language_info": {
   "codemirror_mode": {
    "name": "ipython",
    "version": 3
   },
   "file_extension": ".py",
   "mimetype": "text/x-python",
   "name": "python",
   "nbconvert_exporter": "python",
   "pygments_lexer": "ipython3",
   "version": "3.6.8"
  },
  "notify_time": "5",
  "toc": {
   "base_numbering": 1,
   "nav_menu": {},
   "number_sections": true,
   "sideBar": true,
   "skip_h1_title": true,
   "title_cell": "Table of Contents",
   "title_sidebar": "Contents",
   "toc_cell": true,
   "toc_position": {},
   "toc_section_display": true,
   "toc_window_display": true
  },
  "varInspector": {
   "cols": {
    "lenName": 16,
    "lenType": 16,
    "lenVar": 40
   },
   "kernels_config": {
    "python": {
     "delete_cmd_postfix": "",
     "delete_cmd_prefix": "del ",
     "library": "var_list.py",
     "varRefreshCmd": "print(var_dic_list())"
    },
    "r": {
     "delete_cmd_postfix": ") ",
     "delete_cmd_prefix": "rm(",
     "library": "var_list.r",
     "varRefreshCmd": "cat(var_dic_list()) "
    }
   },
   "types_to_exclude": [
    "module",
    "function",
    "builtin_function_or_method",
    "instance",
    "_Feature"
   ],
   "window_display": false
  }
 },
 "nbformat": 4,
 "nbformat_minor": 2
}
